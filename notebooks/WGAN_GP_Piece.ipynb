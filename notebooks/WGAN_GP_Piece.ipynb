{
  "nbformat": 4,
  "nbformat_minor": 0,
  "metadata": {
    "colab": {
      "name": "WGAN-GP_Piece.ipynb",
      "provenance": [],
      "collapsed_sections": [],
      "toc_visible": true
    },
    "kernelspec": {
      "name": "python3",
      "display_name": "Python 3"
    },
    "language_info": {
      "name": "python"
    },
    "accelerator": "GPU",
    "widgets": {
      "application/vnd.jupyter.widget-state+json": {
        "ac1e49f63f87463ca25c4fcbab52d5e3": {
          "model_module": "@jupyter-widgets/controls",
          "model_name": "HBoxModel",
          "state": {
            "_view_name": "HBoxView",
            "_dom_classes": [],
            "_model_name": "HBoxModel",
            "_view_module": "@jupyter-widgets/controls",
            "_model_module_version": "1.5.0",
            "_view_count": null,
            "_view_module_version": "1.5.0",
            "box_style": "",
            "layout": "IPY_MODEL_96cb41491acf482c872b0bd80e3efc0d",
            "_model_module": "@jupyter-widgets/controls",
            "children": [
              "IPY_MODEL_b23e61c5586e4bb8861b02755c2ee360",
              "IPY_MODEL_c4039d148d6e4735becb7f6b2aac1c0f"
            ]
          }
        },
        "96cb41491acf482c872b0bd80e3efc0d": {
          "model_module": "@jupyter-widgets/base",
          "model_name": "LayoutModel",
          "state": {
            "_view_name": "LayoutView",
            "grid_template_rows": null,
            "right": null,
            "justify_content": null,
            "_view_module": "@jupyter-widgets/base",
            "overflow": null,
            "_model_module_version": "1.2.0",
            "_view_count": null,
            "flex_flow": null,
            "width": null,
            "min_width": null,
            "border": null,
            "align_items": null,
            "bottom": null,
            "_model_module": "@jupyter-widgets/base",
            "top": null,
            "grid_column": null,
            "overflow_y": null,
            "overflow_x": null,
            "grid_auto_flow": null,
            "grid_area": null,
            "grid_template_columns": null,
            "flex": null,
            "_model_name": "LayoutModel",
            "justify_items": null,
            "grid_row": null,
            "max_height": null,
            "align_content": null,
            "visibility": null,
            "align_self": null,
            "height": null,
            "min_height": null,
            "padding": null,
            "grid_auto_rows": null,
            "grid_gap": null,
            "max_width": null,
            "order": null,
            "_view_module_version": "1.2.0",
            "grid_template_areas": null,
            "object_position": null,
            "object_fit": null,
            "grid_auto_columns": null,
            "margin": null,
            "display": null,
            "left": null
          }
        },
        "b23e61c5586e4bb8861b02755c2ee360": {
          "model_module": "@jupyter-widgets/controls",
          "model_name": "FloatProgressModel",
          "state": {
            "_view_name": "ProgressView",
            "style": "IPY_MODEL_aa85516c6862473cad8dde6358a5217b",
            "_dom_classes": [],
            "description": "100%",
            "_model_name": "FloatProgressModel",
            "bar_style": "success",
            "max": 16,
            "_view_module": "@jupyter-widgets/controls",
            "_model_module_version": "1.5.0",
            "value": 16,
            "_view_count": null,
            "_view_module_version": "1.5.0",
            "orientation": "horizontal",
            "min": 0,
            "description_tooltip": null,
            "_model_module": "@jupyter-widgets/controls",
            "layout": "IPY_MODEL_bbe6dfe15aee486db335679d13a7b9f7"
          }
        },
        "c4039d148d6e4735becb7f6b2aac1c0f": {
          "model_module": "@jupyter-widgets/controls",
          "model_name": "HTMLModel",
          "state": {
            "_view_name": "HTMLView",
            "style": "IPY_MODEL_86bc418333bc43ae9ba25ff7258353b5",
            "_dom_classes": [],
            "description": "",
            "_model_name": "HTMLModel",
            "placeholder": "​",
            "_view_module": "@jupyter-widgets/controls",
            "_model_module_version": "1.5.0",
            "value": " 16/16 [00:15&lt;00:00,  1.00it/s]",
            "_view_count": null,
            "_view_module_version": "1.5.0",
            "description_tooltip": null,
            "_model_module": "@jupyter-widgets/controls",
            "layout": "IPY_MODEL_cbd3cdb258214486befd78ab7817e7f5"
          }
        },
        "aa85516c6862473cad8dde6358a5217b": {
          "model_module": "@jupyter-widgets/controls",
          "model_name": "ProgressStyleModel",
          "state": {
            "_view_name": "StyleView",
            "_model_name": "ProgressStyleModel",
            "description_width": "initial",
            "_view_module": "@jupyter-widgets/base",
            "_model_module_version": "1.5.0",
            "_view_count": null,
            "_view_module_version": "1.2.0",
            "bar_color": null,
            "_model_module": "@jupyter-widgets/controls"
          }
        },
        "bbe6dfe15aee486db335679d13a7b9f7": {
          "model_module": "@jupyter-widgets/base",
          "model_name": "LayoutModel",
          "state": {
            "_view_name": "LayoutView",
            "grid_template_rows": null,
            "right": null,
            "justify_content": null,
            "_view_module": "@jupyter-widgets/base",
            "overflow": null,
            "_model_module_version": "1.2.0",
            "_view_count": null,
            "flex_flow": null,
            "width": null,
            "min_width": null,
            "border": null,
            "align_items": null,
            "bottom": null,
            "_model_module": "@jupyter-widgets/base",
            "top": null,
            "grid_column": null,
            "overflow_y": null,
            "overflow_x": null,
            "grid_auto_flow": null,
            "grid_area": null,
            "grid_template_columns": null,
            "flex": null,
            "_model_name": "LayoutModel",
            "justify_items": null,
            "grid_row": null,
            "max_height": null,
            "align_content": null,
            "visibility": null,
            "align_self": null,
            "height": null,
            "min_height": null,
            "padding": null,
            "grid_auto_rows": null,
            "grid_gap": null,
            "max_width": null,
            "order": null,
            "_view_module_version": "1.2.0",
            "grid_template_areas": null,
            "object_position": null,
            "object_fit": null,
            "grid_auto_columns": null,
            "margin": null,
            "display": null,
            "left": null
          }
        },
        "86bc418333bc43ae9ba25ff7258353b5": {
          "model_module": "@jupyter-widgets/controls",
          "model_name": "DescriptionStyleModel",
          "state": {
            "_view_name": "StyleView",
            "_model_name": "DescriptionStyleModel",
            "description_width": "",
            "_view_module": "@jupyter-widgets/base",
            "_model_module_version": "1.5.0",
            "_view_count": null,
            "_view_module_version": "1.2.0",
            "_model_module": "@jupyter-widgets/controls"
          }
        },
        "cbd3cdb258214486befd78ab7817e7f5": {
          "model_module": "@jupyter-widgets/base",
          "model_name": "LayoutModel",
          "state": {
            "_view_name": "LayoutView",
            "grid_template_rows": null,
            "right": null,
            "justify_content": null,
            "_view_module": "@jupyter-widgets/base",
            "overflow": null,
            "_model_module_version": "1.2.0",
            "_view_count": null,
            "flex_flow": null,
            "width": null,
            "min_width": null,
            "border": null,
            "align_items": null,
            "bottom": null,
            "_model_module": "@jupyter-widgets/base",
            "top": null,
            "grid_column": null,
            "overflow_y": null,
            "overflow_x": null,
            "grid_auto_flow": null,
            "grid_area": null,
            "grid_template_columns": null,
            "flex": null,
            "_model_name": "LayoutModel",
            "justify_items": null,
            "grid_row": null,
            "max_height": null,
            "align_content": null,
            "visibility": null,
            "align_self": null,
            "height": null,
            "min_height": null,
            "padding": null,
            "grid_auto_rows": null,
            "grid_gap": null,
            "max_width": null,
            "order": null,
            "_view_module_version": "1.2.0",
            "grid_template_areas": null,
            "object_position": null,
            "object_fit": null,
            "grid_auto_columns": null,
            "margin": null,
            "display": null,
            "left": null
          }
        },
        "51ef8f2fbb3a482c806e585465e78d2c": {
          "model_module": "@jupyter-widgets/controls",
          "model_name": "HBoxModel",
          "state": {
            "_view_name": "HBoxView",
            "_dom_classes": [],
            "_model_name": "HBoxModel",
            "_view_module": "@jupyter-widgets/controls",
            "_model_module_version": "1.5.0",
            "_view_count": null,
            "_view_module_version": "1.5.0",
            "box_style": "",
            "layout": "IPY_MODEL_1a38deaeb2b947c7a060bc4e4f187423",
            "_model_module": "@jupyter-widgets/controls",
            "children": [
              "IPY_MODEL_947a11dcd5ea443b88106045e5dc420c",
              "IPY_MODEL_41cb757288114520a81ade10526441d7"
            ]
          }
        },
        "1a38deaeb2b947c7a060bc4e4f187423": {
          "model_module": "@jupyter-widgets/base",
          "model_name": "LayoutModel",
          "state": {
            "_view_name": "LayoutView",
            "grid_template_rows": null,
            "right": null,
            "justify_content": null,
            "_view_module": "@jupyter-widgets/base",
            "overflow": null,
            "_model_module_version": "1.2.0",
            "_view_count": null,
            "flex_flow": null,
            "width": null,
            "min_width": null,
            "border": null,
            "align_items": null,
            "bottom": null,
            "_model_module": "@jupyter-widgets/base",
            "top": null,
            "grid_column": null,
            "overflow_y": null,
            "overflow_x": null,
            "grid_auto_flow": null,
            "grid_area": null,
            "grid_template_columns": null,
            "flex": null,
            "_model_name": "LayoutModel",
            "justify_items": null,
            "grid_row": null,
            "max_height": null,
            "align_content": null,
            "visibility": null,
            "align_self": null,
            "height": null,
            "min_height": null,
            "padding": null,
            "grid_auto_rows": null,
            "grid_gap": null,
            "max_width": null,
            "order": null,
            "_view_module_version": "1.2.0",
            "grid_template_areas": null,
            "object_position": null,
            "object_fit": null,
            "grid_auto_columns": null,
            "margin": null,
            "display": null,
            "left": null
          }
        },
        "947a11dcd5ea443b88106045e5dc420c": {
          "model_module": "@jupyter-widgets/controls",
          "model_name": "FloatProgressModel",
          "state": {
            "_view_name": "ProgressView",
            "style": "IPY_MODEL_0154b14be47b417ab56bb05be8c7db43",
            "_dom_classes": [],
            "description": "100%",
            "_model_name": "FloatProgressModel",
            "bar_style": "success",
            "max": 16,
            "_view_module": "@jupyter-widgets/controls",
            "_model_module_version": "1.5.0",
            "value": 16,
            "_view_count": null,
            "_view_module_version": "1.5.0",
            "orientation": "horizontal",
            "min": 0,
            "description_tooltip": null,
            "_model_module": "@jupyter-widgets/controls",
            "layout": "IPY_MODEL_ad53ab9caa8d4c3e8a8f6c4041666df3"
          }
        },
        "41cb757288114520a81ade10526441d7": {
          "model_module": "@jupyter-widgets/controls",
          "model_name": "HTMLModel",
          "state": {
            "_view_name": "HTMLView",
            "style": "IPY_MODEL_394c65b5ac09423b8cabd4bb12554adc",
            "_dom_classes": [],
            "description": "",
            "_model_name": "HTMLModel",
            "placeholder": "​",
            "_view_module": "@jupyter-widgets/controls",
            "_model_module_version": "1.5.0",
            "value": " 16/16 [00:17&lt;00:00,  1.10s/it]",
            "_view_count": null,
            "_view_module_version": "1.5.0",
            "description_tooltip": null,
            "_model_module": "@jupyter-widgets/controls",
            "layout": "IPY_MODEL_69373b2a37074e2c9653943e75b21c17"
          }
        },
        "0154b14be47b417ab56bb05be8c7db43": {
          "model_module": "@jupyter-widgets/controls",
          "model_name": "ProgressStyleModel",
          "state": {
            "_view_name": "StyleView",
            "_model_name": "ProgressStyleModel",
            "description_width": "initial",
            "_view_module": "@jupyter-widgets/base",
            "_model_module_version": "1.5.0",
            "_view_count": null,
            "_view_module_version": "1.2.0",
            "bar_color": null,
            "_model_module": "@jupyter-widgets/controls"
          }
        },
        "ad53ab9caa8d4c3e8a8f6c4041666df3": {
          "model_module": "@jupyter-widgets/base",
          "model_name": "LayoutModel",
          "state": {
            "_view_name": "LayoutView",
            "grid_template_rows": null,
            "right": null,
            "justify_content": null,
            "_view_module": "@jupyter-widgets/base",
            "overflow": null,
            "_model_module_version": "1.2.0",
            "_view_count": null,
            "flex_flow": null,
            "width": null,
            "min_width": null,
            "border": null,
            "align_items": null,
            "bottom": null,
            "_model_module": "@jupyter-widgets/base",
            "top": null,
            "grid_column": null,
            "overflow_y": null,
            "overflow_x": null,
            "grid_auto_flow": null,
            "grid_area": null,
            "grid_template_columns": null,
            "flex": null,
            "_model_name": "LayoutModel",
            "justify_items": null,
            "grid_row": null,
            "max_height": null,
            "align_content": null,
            "visibility": null,
            "align_self": null,
            "height": null,
            "min_height": null,
            "padding": null,
            "grid_auto_rows": null,
            "grid_gap": null,
            "max_width": null,
            "order": null,
            "_view_module_version": "1.2.0",
            "grid_template_areas": null,
            "object_position": null,
            "object_fit": null,
            "grid_auto_columns": null,
            "margin": null,
            "display": null,
            "left": null
          }
        },
        "394c65b5ac09423b8cabd4bb12554adc": {
          "model_module": "@jupyter-widgets/controls",
          "model_name": "DescriptionStyleModel",
          "state": {
            "_view_name": "StyleView",
            "_model_name": "DescriptionStyleModel",
            "description_width": "",
            "_view_module": "@jupyter-widgets/base",
            "_model_module_version": "1.5.0",
            "_view_count": null,
            "_view_module_version": "1.2.0",
            "_model_module": "@jupyter-widgets/controls"
          }
        },
        "69373b2a37074e2c9653943e75b21c17": {
          "model_module": "@jupyter-widgets/base",
          "model_name": "LayoutModel",
          "state": {
            "_view_name": "LayoutView",
            "grid_template_rows": null,
            "right": null,
            "justify_content": null,
            "_view_module": "@jupyter-widgets/base",
            "overflow": null,
            "_model_module_version": "1.2.0",
            "_view_count": null,
            "flex_flow": null,
            "width": null,
            "min_width": null,
            "border": null,
            "align_items": null,
            "bottom": null,
            "_model_module": "@jupyter-widgets/base",
            "top": null,
            "grid_column": null,
            "overflow_y": null,
            "overflow_x": null,
            "grid_auto_flow": null,
            "grid_area": null,
            "grid_template_columns": null,
            "flex": null,
            "_model_name": "LayoutModel",
            "justify_items": null,
            "grid_row": null,
            "max_height": null,
            "align_content": null,
            "visibility": null,
            "align_self": null,
            "height": null,
            "min_height": null,
            "padding": null,
            "grid_auto_rows": null,
            "grid_gap": null,
            "max_width": null,
            "order": null,
            "_view_module_version": "1.2.0",
            "grid_template_areas": null,
            "object_position": null,
            "object_fit": null,
            "grid_auto_columns": null,
            "margin": null,
            "display": null,
            "left": null
          }
        }
      }
    }
  },
  "cells": [
    {
      "cell_type": "markdown",
      "metadata": {
        "id": "R4tVdkJMn9JP"
      },
      "source": [
        "# Setup"
      ]
    },
    {
      "cell_type": "code",
      "metadata": {
        "id": "YNQ39NwKUACU",
        "colab": {
          "base_uri": "https://localhost:8080/"
        },
        "outputId": "8e13c669-b1a9-4ad4-ce78-243116f40c41"
      },
      "source": [
        "import tensorflow as tf\n",
        "from tensorflow.keras import layers\n",
        "from tensorflow.keras.optimizers import Adam\n",
        "from tensorflow.keras.models import Model\n",
        "from tensorflow.keras.metrics import Mean\n",
        "from google.colab import drive\n",
        "import numpy as np\n",
        "import os\n",
        "from tqdm.autonotebook import tqdm\n",
        "from IPython.display import Image\n",
        "import PIL\n",
        "from PIL import Image\n",
        "import matplotlib.pyplot as plt\n",
        "import tensorflow_datasets as tfds\n",
        "import shutil\n",
        "from functools import partial"
      ],
      "execution_count": null,
      "outputs": [
        {
          "output_type": "stream",
          "text": [
            "/usr/local/lib/python3.7/dist-packages/ipykernel_launcher.py:9: TqdmExperimentalWarning: Using `tqdm.autonotebook.tqdm` in notebook mode. Use `tqdm.tqdm` instead to force console mode (e.g. in jupyter console)\n",
            "  if __name__ == '__main__':\n"
          ],
          "name": "stderr"
        }
      ]
    },
    {
      "cell_type": "code",
      "metadata": {
        "colab": {
          "base_uri": "https://localhost:8080/"
        },
        "id": "uKZ-COZOq3r2",
        "outputId": "ff2570e1-e50c-4688-f66e-c95fbbc7dd1d"
      },
      "source": [
        "%cd /content/\n",
        "drive.mount(\"/content/drive\")"
      ],
      "execution_count": null,
      "outputs": [
        {
          "output_type": "stream",
          "text": [
            "/content\n",
            "Mounted at /content/drive\n"
          ],
          "name": "stdout"
        }
      ]
    },
    {
      "cell_type": "code",
      "metadata": {
        "colab": {
          "base_uri": "https://localhost:8080/"
        },
        "id": "OQfWIlF6r0aD",
        "outputId": "de360609-1327-44c1-e59e-671b54486399"
      },
      "source": [
        "!git clone https://github.com/yxczt/project_laboratory_elozs.git"
      ],
      "execution_count": null,
      "outputs": [
        {
          "output_type": "stream",
          "text": [
            "Cloning into 'project_laboratory_elozs'...\n",
            "remote: Enumerating objects: 3651, done.\u001b[K\n",
            "remote: Counting objects: 100% (3651/3651), done.\u001b[K\n",
            "remote: Compressing objects: 100% (3647/3647), done.\u001b[K\n",
            "remote: Total 3651 (delta 2), reused 3642 (delta 1), pack-reused 0\u001b[K\n",
            "Receiving objects: 100% (3651/3651), 23.16 MiB | 28.92 MiB/s, done.\n",
            "Resolving deltas: 100% (2/2), done.\n"
          ],
          "name": "stdout"
        }
      ]
    },
    {
      "cell_type": "code",
      "metadata": {
        "colab": {
          "base_uri": "https://localhost:8080/"
        },
        "id": "ijHAQrTquBOi",
        "outputId": "3888efc8-3ac7-45f1-c79e-bb4f6d738a5c"
      },
      "source": [
        "%cd /content/project_laboratory_elozs/\n",
        "!ls -a"
      ],
      "execution_count": null,
      "outputs": [
        {
          "output_type": "stream",
          "text": [
            "/content/project_laboratory_elozs\n",
            ".  ..  data  .git  README.md\n"
          ],
          "name": "stdout"
        }
      ]
    },
    {
      "cell_type": "code",
      "metadata": {
        "id": "r5QF4DjAclBN"
      },
      "source": [
        "def pbar(total_images, batch_size, epoch, epochs):\n",
        "    bar = tqdm(total=(total_images // batch_size) * batch_size,\n",
        "               ncols=int(get_terminal_width() * .9),\n",
        "               desc=tqdm.write(f'Epoch {epoch + 1}/{epochs}'),\n",
        "               postfix={\n",
        "                   'g_loss': f'{0:6.3f}',\n",
        "                   'd_loss': f'{0:6.3f}',\n",
        "                   1: 1\n",
        "               },\n",
        "               bar_format='{n_fmt}/{total_fmt} |{bar}| {rate_fmt}  '\n",
        "               'ETA: {remaining}  Elapsed Time: {elapsed}  '\n",
        "               'G Loss: {postfix[g_loss]}  D Loss: {postfix['\n",
        "               'd_loss]}',\n",
        "               unit=' images',\n",
        "               miniters=10)\n",
        "    return bar"
      ],
      "execution_count": null,
      "outputs": []
    },
    {
      "cell_type": "code",
      "metadata": {
        "id": "faVH8Nl8cnJr"
      },
      "source": [
        "def save_image_grid(img_grid, epoch):\n",
        "    file_name = 'Pieces' + f'_{epoch}.png'\n",
        "    output_dir = os.path.join(\"/content/drive/MyDrive/onlab_results/training/\", file_name)\n",
        "    tf.io.write_file(output_dir, tf.image.encode_png(tf.cast(img_grid, tf.uint8)))"
      ],
      "execution_count": null,
      "outputs": []
    },
    {
      "cell_type": "code",
      "metadata": {
        "id": "AIIpvXFCeRbs"
      },
      "source": [
        "def img_merge(images, n_rows=None, n_cols=None, padding=0, pad_value=0):\n",
        "    images = (tf.cast(images, tf.float32) + 1.0) * 127.5\n",
        "    images = np.array(images)\n",
        "    n = images.shape[0]\n",
        "\n",
        "    if n_rows:\n",
        "        n_rows = max(min(n_rows, n), 1)\n",
        "        n_cols = int(n - 0.5) // n_rows + 1\n",
        "    elif n_cols:\n",
        "        n_cols = max(min(n_cols, n), 1)\n",
        "        n_rows = int(n - 0.5) // n_cols + 1\n",
        "    else:\n",
        "        n_rows = int(n**0.5)\n",
        "        n_cols = int(n - 0.5) // n_rows + 1\n",
        "\n",
        "    h, w = images.shape[1], images.shape[2]\n",
        "    shape = (h * n_rows + padding * (n_rows - 1), w * n_cols + padding * (n_cols - 1))\n",
        "    if images.ndim == 4:\n",
        "        shape += (images.shape[3], )\n",
        "    img = np.full(shape, pad_value, dtype=images.dtype)\n",
        "\n",
        "    for idx, image in enumerate(images):\n",
        "        i = idx % n_cols\n",
        "        j = idx // n_cols\n",
        "        img[j * (h + padding):j * (h + padding) + h, i * (w + padding):i *\n",
        "            (w + padding) + w, ...] = image\n",
        "    return img"
      ],
      "execution_count": null,
      "outputs": []
    },
    {
      "cell_type": "code",
      "metadata": {
        "id": "VqQRcZMQbJua"
      },
      "source": [
        "def get_terminal_width():\n",
        "    width = shutil.get_terminal_size(fallback=(200, 24))[0]\n",
        "    if width == 0:\n",
        "        width = 120\n",
        "    return width"
      ],
      "execution_count": null,
      "outputs": []
    },
    {
      "cell_type": "code",
      "metadata": {
        "id": "l8s9W0w2mvX6"
      },
      "source": [
        "def upsample_block(\n",
        "    x,\n",
        "    filters,\n",
        "    activation,\n",
        "    kernel_size=(3, 3),\n",
        "    strides=(1, 1),\n",
        "    up_size=(2, 2),\n",
        "    padding=\"same\",\n",
        "    use_bn=False,\n",
        "    use_bias=True,\n",
        "    use_dropout=False,\n",
        "    drop_value=0.3,\n",
        "  ):\n",
        "    x = layers.UpSampling2D(up_size)(x)\n",
        "    x = layers.Conv2D(\n",
        "        filters, kernel_size, strides=strides, padding=padding, use_bias=use_bias\n",
        "    )(x)\n",
        "\n",
        "    if use_bn:\n",
        "        x = layers.BatchNormalization()(x)\n",
        "\n",
        "    if activation:\n",
        "        x = activation(x)\n",
        "    if use_dropout:\n",
        "        x = layers.Dropout(drop_value)(x)\n",
        "    return x\n",
        "    \n",
        "def conv_block(\n",
        "  x,\n",
        "  filters,\n",
        "  activation,\n",
        "  kernel_size=(3, 3),\n",
        "  strides=(1, 1),\n",
        "  padding=\"same\",\n",
        "  use_bias=True,\n",
        "  use_bn=False,\n",
        "  use_dropout=False,\n",
        "  drop_value=0.5,\n",
        "):\n",
        "  x = layers.Conv2D(\n",
        "      filters, kernel_size, strides=strides, padding=padding, use_bias=use_bias\n",
        "  )(x)\n",
        "  if use_bn:\n",
        "      x = layers.BatchNormalization()(x)\n",
        "  x = activation(x)\n",
        "  if use_dropout:\n",
        "      x = layers.Dropout(drop_value)(x)\n",
        "  return x"
      ],
      "execution_count": null,
      "outputs": []
    },
    {
      "cell_type": "code",
      "metadata": {
        "id": "ofUW2ohAWiUJ"
      },
      "source": [
        "IMG_SHAPE = (128, 128, 3)\n",
        "img_size = 128\n",
        "epochs = 300\n",
        "batch = 32\n",
        "noise_dim = 1536"
      ],
      "execution_count": null,
      "outputs": []
    },
    {
      "cell_type": "markdown",
      "metadata": {
        "id": "72z88DXAr87s"
      },
      "source": [
        "## Defining the Model"
      ]
    },
    {
      "cell_type": "code",
      "metadata": {
        "id": "HwAFPcl-uu6N"
      },
      "source": [
        "class WGANGP:\n",
        "  def __init__(self, num_of_images = 1225, image_size = 128, epochs = 300, batch_size = 32, z_size = 1536, n_critic = 5, gp_weight = 10.0, loading = False):\n",
        "    self.num_of_images = num_of_images\n",
        "    self.image_size = image_size\n",
        "    self.epochs = epochs\n",
        "    self.batch_size = batch_size\n",
        "    self.z_size = z_size\n",
        "    self.n_critic = n_critic\n",
        "    self.gp_weight = gp_weight\n",
        "    if loading:\n",
        "      %cd /content/drive/MyDrive/onlab_results/first_try/\n",
        "      self.Gen = tf.keras.models.load_model(\"generator_pieces.h5\")\n",
        "      self.Disc = tf.keras.models.load_model(\"discriminator_pieces.h5\")\n",
        "    else:\n",
        "      self.Gen = self.build_generator()\n",
        "      self.Disc = self.build_discriminator()\n",
        "    self.gen_optimizer = Adam(0.0001)\n",
        "    self.disc_optimizer = Adam(0.0001)\n",
        "\n",
        "    self.Gen.summary()\n",
        "    self.Disc.summary()\n",
        "\n",
        "  def build_generator(self):\n",
        "    noise = layers.Input(shape=(1, 1, noise_dim,))\n",
        "    x = layers.Dense(4 * 4 * 96, use_bias=False)(noise)\n",
        "    x = layers.BatchNormalization()(x)\n",
        "    x = layers.LeakyReLU(0.2)(x)\n",
        "\n",
        "    x = layers.Reshape((4, 4, 96))(x)\n",
        "    x = upsample_block(\n",
        "        x,\n",
        "        48,\n",
        "        layers.LeakyReLU(0.2),\n",
        "        strides=(1, 1),\n",
        "        use_bias=False,\n",
        "        use_bn=True,\n",
        "        padding=\"same\",\n",
        "        use_dropout=False,\n",
        "    )\n",
        "    x = upsample_block(\n",
        "        x,\n",
        "        24,\n",
        "        layers.LeakyReLU(0.2),\n",
        "        strides=(1, 1),\n",
        "        use_bias=False,\n",
        "        use_bn=True,\n",
        "        padding=\"same\",\n",
        "        use_dropout=False,\n",
        "    )\n",
        "    x = upsample_block(\n",
        "        x,\n",
        "        12,\n",
        "        layers.LeakyReLU(0.2),\n",
        "        strides=(1, 1),\n",
        "        use_bias=False,\n",
        "        use_bn=True,\n",
        "        padding=\"same\",\n",
        "        use_dropout=False,\n",
        "    )\n",
        "    x = upsample_block(\n",
        "        x,\n",
        "        6,\n",
        "        layers.LeakyReLU(0.2),\n",
        "        strides=(1, 1),\n",
        "        use_bias=False,\n",
        "        use_bn=True,\n",
        "        padding=\"same\",\n",
        "        use_dropout=False,\n",
        "    )\n",
        "    x = upsample_block(\n",
        "        x, 3, layers.Activation(\"tanh\"), strides=(1, 1), use_bias=False, use_bn=True\n",
        "    )\n",
        "\n",
        "    g_model = Model(noise, x, name=\"generator\")\n",
        "    return g_model\n",
        "\n",
        "\n",
        "  def build_discriminator(self):\n",
        "    img_input = layers.Input(shape=IMG_SHAPE)\n",
        "    x = conv_block(\n",
        "        img_input,\n",
        "        48,\n",
        "        kernel_size=(5, 5),\n",
        "        strides=(2, 2),\n",
        "        use_bn=False,\n",
        "        use_bias=True,\n",
        "        activation=layers.LeakyReLU(0.2),\n",
        "        use_dropout=False,\n",
        "        drop_value=0.3,\n",
        "    )\n",
        "    x = conv_block(\n",
        "        x,\n",
        "        96,\n",
        "        kernel_size=(5, 5),\n",
        "        strides=(2, 2),\n",
        "        use_bn=False,\n",
        "        activation=layers.LeakyReLU(0.2),\n",
        "        use_bias=True,\n",
        "        use_dropout=True,\n",
        "        drop_value=0.3,\n",
        "    )\n",
        "    x = conv_block(\n",
        "        x,\n",
        "        192,\n",
        "        kernel_size=(5, 5),\n",
        "        strides=(2, 2),\n",
        "        use_bn=False,\n",
        "        activation=layers.LeakyReLU(0.2),\n",
        "        use_bias=True,\n",
        "        use_dropout=True,\n",
        "        drop_value=0.3,\n",
        "    )\n",
        "    x = conv_block(\n",
        "        x,\n",
        "        384,\n",
        "        kernel_size=(5, 5),\n",
        "        strides=(2, 2),\n",
        "        use_bn=False,\n",
        "        activation=layers.LeakyReLU(0.2),\n",
        "        use_bias=True,\n",
        "        use_dropout=False,\n",
        "        drop_value=0.3,\n",
        "    )\n",
        "\n",
        "    x = layers.Flatten()(x)\n",
        "    x = layers.Dropout(0.2)(x)\n",
        "    x = layers.Dense(1)(x)\n",
        "\n",
        "    d_model = Model(img_input, x, name=\"discriminator\")\n",
        "    return d_model\n",
        "\n",
        "  def train(self, dataset):\n",
        "    z = tf.constant(tf.random.normal((self.batch_size, 1, 1, self.z_size)))\n",
        "    g_train_loss = Mean()\n",
        "    d_train_loss = Mean()\n",
        "    for epoch in range(self.epochs):\n",
        "      bar = pbar(self.num_of_images, 32, epoch, self.epochs)\n",
        "      for batch in dataset:\n",
        "        for _ in range(self.n_critic):\n",
        "          self.train_discrminator(batch)\n",
        "          d_loss = self.train_discrminator(batch)\n",
        "          d_train_loss(d_loss)\n",
        "\n",
        "        g_loss = self.train_generator()\n",
        "        g_train_loss(g_loss)\n",
        "        self.train_generator()\n",
        "\n",
        "        bar.postfix['g_loss'] = f'{g_train_loss.result():6.3f}'\n",
        "        bar.postfix['d_loss'] = f'{d_train_loss.result():6.3f}'\n",
        "        bar.update(self.batch_size)\n",
        "\n",
        "      g_train_loss.reset_states()\n",
        "      d_train_loss.reset_states()\n",
        "\n",
        "      bar.close()\n",
        "      del bar\n",
        "\n",
        "      samples = self.Gen(z, training=False)\n",
        "      image_grid = img_merge(samples, n_rows=8).squeeze()\n",
        "      save_image_grid(image_grid, epoch + 1)\n",
        "  \n",
        "  @tf.function\n",
        "  def train_generator(self):\n",
        "    z = tf.random.normal((self.batch_size, 1, 1, self.z_size))\n",
        "    with tf.GradientTape() as t:\n",
        "      x_fake = self.Gen(z, training=True)\n",
        "      fake_logits = self.Disc(x_fake, training=True)\n",
        "      loss = -(tf.reduce_mean(fake_logits))\n",
        "    grad = t.gradient(loss, self.Gen.trainable_variables)\n",
        "    self.gen_optimizer.apply_gradients(zip(grad, self.Gen.trainable_variables))\n",
        "    return loss\n",
        "  \n",
        "  @tf.function\n",
        "  def train_discrminator(self, x_real):\n",
        "    z = tf.random.normal((self.batch_size, 1, 1, self.z_size))\n",
        "    with tf.GradientTape() as t:\n",
        "      x_fake = self.Gen(z, training=True)\n",
        "      fake_logits = self.Disc(x_fake, training=True)\n",
        "      real_logits = self.Disc(x_real, training=True)\n",
        "      cost = tf.reduce_mean(fake_logits) - tf.reduce_mean(real_logits)\n",
        "      gp = self.gradient_penalty(partial(self.Disc, training=True), x_real, x_fake)\n",
        "      cost += self.gp_weight * gp\n",
        "    grad = t.gradient(cost, self.Disc.trainable_variables)\n",
        "    self.gen_optimizer.apply_gradients(zip(grad, self.Disc.trainable_variables))\n",
        "    return cost\n",
        "\n",
        "  def gradient_penalty(self, f, real, fake):\n",
        "    alpha = tf.random.uniform([self.batch_size, 1, 1, 1], 0., 1.)\n",
        "    diff = fake - real\n",
        "    inter = real + (alpha * diff)\n",
        "    with tf.GradientTape() as t:\n",
        "        t.watch(inter)\n",
        "        pred = f(inter)\n",
        "    grad = t.gradient(pred, [inter])[0]\n",
        "    slopes = tf.sqrt(tf.reduce_sum(tf.square(grad), axis=[1, 2, 3]))\n",
        "    gp = tf.reduce_mean((slopes - 1.)**2)\n",
        "    return gp\n",
        "  \n",
        "  def generate_samples(self):\n",
        "    z = tf.random.normal((self.batch_size, 1, 1, self.z_size))\n",
        "    samples = self.Gen(z, training=False)\n",
        "    image_grid = img_merge(samples, n_rows=8).squeeze()\n",
        "    file_name = 'PiecesGeneratedRandom.png'\n",
        "    output_dir = os.path.join(\"/content/drive/MyDrive/onlab_results/generated_images/\", file_name)\n",
        "    tf.io.write_file(output_dir, tf.image.encode_png(tf.cast(image_grid, tf.uint8)))\n",
        "\n",
        "  def saving_models(self):\n",
        "    self.Gen.save('generator_pieces.h5')\n",
        "    self.Disc.save('discriminator_pieces.h5')\n"
      ],
      "execution_count": null,
      "outputs": []
    },
    {
      "cell_type": "markdown",
      "metadata": {
        "id": "aX60DRbyD_bO"
      },
      "source": [
        "# Dataset preparation"
      ]
    },
    {
      "cell_type": "code",
      "metadata": {
        "id": "6UDjg1aWEFF-"
      },
      "source": [
        "def decode_img(file_path):\n",
        "    file = tf.io.read_file(file_path)\n",
        "    img = tf.image.decode_png(file, channels=3)\n",
        "    img = (tf.dtypes.cast(img, tf.float32) / 127.5) - 1.0\n",
        "    return img  \n",
        "\n",
        "img_path = \"/content/project_laboratory_elozs/data/pieces/\"\n",
        "ds_train_paths = tf.data.Dataset.list_files(str(img_path + '*.png'))\n",
        "\n",
        "ds_train = ds_train_paths.map(decode_img).cache().shuffle(1225).batch(32, drop_remainder=True)"
      ],
      "execution_count": null,
      "outputs": []
    },
    {
      "cell_type": "code",
      "metadata": {
        "id": "7-9N7nvYVF0l"
      },
      "source": [
        "unknown_image_batch = next(iter(ds_train))\n"
      ],
      "execution_count": null,
      "outputs": []
    },
    {
      "cell_type": "code",
      "metadata": {
        "colab": {
          "base_uri": "https://localhost:8080/",
          "height": 302
        },
        "id": "eR2do2ApVPWM",
        "outputId": "3538d06b-6e5f-42fd-be7f-de79ad0820b5"
      },
      "source": [
        "img = unknown_image_batch[0]\n",
        "plt.imshow(tf.concat([img], 2))"
      ],
      "execution_count": null,
      "outputs": [
        {
          "output_type": "stream",
          "text": [
            "Clipping input data to the valid range for imshow with RGB data ([0..1] for floats or [0..255] for integers).\n"
          ],
          "name": "stderr"
        },
        {
          "output_type": "execute_result",
          "data": {
            "text/plain": [
              "<matplotlib.image.AxesImage at 0x7f2ffdd1c150>"
            ]
          },
          "metadata": {
            "tags": []
          },
          "execution_count": 14
        },
        {
          "output_type": "display_data",
          "data": {
            "image/png": "[encoded data removed]",
            "text/plain": [
              "<Figure size 432x288 with 1 Axes>"
            ]
          },
          "metadata": {
            "tags": [],
            "needs_background": "light"
          }
        }
      ]
    },
    {
      "cell_type": "markdown",
      "metadata": {
        "id": "XRej95TYLBG8"
      },
      "source": [
        "# Training"
      ]
    },
    {
      "cell_type": "code",
      "metadata": {
        "id": "tl23KvXmEuQP",
        "colab": {
          "base_uri": "https://localhost:8080/"
        },
        "outputId": "5b3172e0-faef-4ba0-a58d-4e06a514bda1"
      },
      "source": [
        "%cd /content/drive/MyDrive/onlab_results/\n",
        "wgan = WGANGP(loading=True)"
      ],
      "execution_count": null,
      "outputs": [
        {
          "output_type": "stream",
          "text": [
            "/content/drive/MyDrive/onlab_results\n",
            "/content/drive/MyDrive/onlab_results/first_try\n",
            "WARNING:tensorflow:No training configuration found in the save file, so the model was *not* compiled. Compile it manually.\n",
            "WARNING:tensorflow:No training configuration found in the save file, so the model was *not* compiled. Compile it manually.\n",
            "Model: \"generator\"\n",
            "_________________________________________________________________\n",
            "Layer (type)                 Output Shape              Param #   \n",
            "=================================================================\n",
            "input_7 (InputLayer)         [(None, 1, 1, 1536)]      0         \n",
            "_________________________________________________________________\n",
            "dense_6 (Dense)              (None, 1, 1, 1536)        2359296   \n",
            "_________________________________________________________________\n",
            "batch_normalization_18 (Batc (None, 1, 1, 1536)        6144      \n",
            "_________________________________________________________________\n",
            "leaky_re_lu_27 (LeakyReLU)   (None, 1, 1, 1536)        0         \n",
            "_________________________________________________________________\n",
            "reshape_3 (Reshape)          (None, 4, 4, 96)          0         \n",
            "_________________________________________________________________\n",
            "up_sampling2d_15 (UpSampling (None, 8, 8, 96)          0         \n",
            "_________________________________________________________________\n",
            "conv2d_27 (Conv2D)           (None, 8, 8, 48)          41472     \n",
            "_________________________________________________________________\n",
            "batch_normalization_19 (Batc (None, 8, 8, 48)          192       \n",
            "_________________________________________________________________\n",
            "leaky_re_lu_28 (LeakyReLU)   (None, 8, 8, 48)          0         \n",
            "_________________________________________________________________\n",
            "up_sampling2d_16 (UpSampling (None, 16, 16, 48)        0         \n",
            "_________________________________________________________________\n",
            "conv2d_28 (Conv2D)           (None, 16, 16, 24)        10368     \n",
            "_________________________________________________________________\n",
            "batch_normalization_20 (Batc (None, 16, 16, 24)        96        \n",
            "_________________________________________________________________\n",
            "leaky_re_lu_29 (LeakyReLU)   (None, 16, 16, 24)        0         \n",
            "_________________________________________________________________\n",
            "up_sampling2d_17 (UpSampling (None, 32, 32, 24)        0         \n",
            "_________________________________________________________________\n",
            "conv2d_29 (Conv2D)           (None, 32, 32, 12)        2592      \n",
            "_________________________________________________________________\n",
            "batch_normalization_21 (Batc (None, 32, 32, 12)        48        \n",
            "_________________________________________________________________\n",
            "leaky_re_lu_30 (LeakyReLU)   (None, 32, 32, 12)        0         \n",
            "_________________________________________________________________\n",
            "up_sampling2d_18 (UpSampling (None, 64, 64, 12)        0         \n",
            "_________________________________________________________________\n",
            "conv2d_30 (Conv2D)           (None, 64, 64, 6)         648       \n",
            "_________________________________________________________________\n",
            "batch_normalization_22 (Batc (None, 64, 64, 6)         24        \n",
            "_________________________________________________________________\n",
            "leaky_re_lu_31 (LeakyReLU)   (None, 64, 64, 6)         0         \n",
            "_________________________________________________________________\n",
            "up_sampling2d_19 (UpSampling (None, 128, 128, 6)       0         \n",
            "_________________________________________________________________\n",
            "conv2d_31 (Conv2D)           (None, 128, 128, 3)       162       \n",
            "_________________________________________________________________\n",
            "batch_normalization_23 (Batc (None, 128, 128, 3)       12        \n",
            "_________________________________________________________________\n",
            "activation_3 (Activation)    (None, 128, 128, 3)       0         \n",
            "=================================================================\n",
            "Total params: 2,421,054\n",
            "Trainable params: 2,417,796\n",
            "Non-trainable params: 3,258\n",
            "_________________________________________________________________\n",
            "Model: \"discriminator\"\n",
            "_________________________________________________________________\n",
            "Layer (type)                 Output Shape              Param #   \n",
            "=================================================================\n",
            "input_8 (InputLayer)         [(None, 128, 128, 3)]     0         \n",
            "_________________________________________________________________\n",
            "conv2d_32 (Conv2D)           (None, 64, 64, 48)        3648      \n",
            "_________________________________________________________________\n",
            "leaky_re_lu_32 (LeakyReLU)   (None, 64, 64, 48)        0         \n",
            "_________________________________________________________________\n",
            "conv2d_33 (Conv2D)           (None, 32, 32, 96)        115296    \n",
            "_________________________________________________________________\n",
            "leaky_re_lu_33 (LeakyReLU)   (None, 32, 32, 96)        0         \n",
            "_________________________________________________________________\n",
            "dropout_9 (Dropout)          (None, 32, 32, 96)        0         \n",
            "_________________________________________________________________\n",
            "conv2d_34 (Conv2D)           (None, 16, 16, 192)       460992    \n",
            "_________________________________________________________________\n",
            "leaky_re_lu_34 (LeakyReLU)   (None, 16, 16, 192)       0         \n",
            "_________________________________________________________________\n",
            "dropout_10 (Dropout)         (None, 16, 16, 192)       0         \n",
            "_________________________________________________________________\n",
            "conv2d_35 (Conv2D)           (None, 8, 8, 384)         1843584   \n",
            "_________________________________________________________________\n",
            "leaky_re_lu_35 (LeakyReLU)   (None, 8, 8, 384)         0         \n",
            "_________________________________________________________________\n",
            "flatten_3 (Flatten)          (None, 24576)             0         \n",
            "_________________________________________________________________\n",
            "dropout_11 (Dropout)         (None, 24576)             0         \n",
            "_________________________________________________________________\n",
            "dense_7 (Dense)              (None, 1)                 24577     \n",
            "=================================================================\n",
            "Total params: 2,448,097\n",
            "Trainable params: 2,448,097\n",
            "Non-trainable params: 0\n",
            "_________________________________________________________________\n"
          ],
          "name": "stdout"
        }
      ]
    },
    {
      "cell_type": "code",
      "metadata": {
        "id": "mi-6Nhy_F3UY"
      },
      "source": [
        "wgan.train(ds_train)"
      ],
      "execution_count": null,
      "outputs": []
    },
    {
      "cell_type": "code",
      "metadata": {
        "id": "DZlyQ-IzhMls"
      },
      "source": [
        "wgan.saving_models()"
      ],
      "execution_count": null,
      "outputs": []
    },
    {
      "cell_type": "code",
      "metadata": {
        "id": "Mm5qGF8lFVI-"
      },
      "source": [
        "wgan.generate_samples()"
      ],
      "execution_count": null,
      "outputs": []
    },
    {
      "cell_type": "markdown",
      "metadata": {
        "id": "HZ3Bvm71hyB6"
      },
      "source": [
        "# Evaluation"
      ]
    },
    {
      "cell_type": "code",
      "metadata": {
        "id": "grOPsY1uhxrW",
        "colab": {
          "base_uri": "https://localhost:8080/"
        },
        "outputId": "85c46bcc-5a32-4427-9ef6-04ca66055d08"
      },
      "source": [
        "inception_model = tf.keras.applications.InceptionV3(include_top=False, \n",
        "                              weights=\"imagenet\", \n",
        "                              pooling='avg')"
      ],
      "execution_count": null,
      "outputs": [
        {
          "output_type": "stream",
          "text": [
            "Downloading data from https://storage.googleapis.com/tensorflow/keras-applications/inception_v3/inception_v3_weights_tf_dim_ordering_tf_kernels_notop.h5\n",
            "87916544/87910968 [==============================] - 1s 0us/step\n"
          ],
          "name": "stdout"
        }
      ]
    },
    {
      "cell_type": "code",
      "metadata": {
        "colab": {
          "base_uri": "https://localhost:8080/",
          "height": 131,
          "referenced_widgets": [
            "ac1e49f63f87463ca25c4fcbab52d5e3",
            "96cb41491acf482c872b0bd80e3efc0d",
            "b23e61c5586e4bb8861b02755c2ee360",
            "c4039d148d6e4735becb7f6b2aac1c0f",
            "aa85516c6862473cad8dde6358a5217b",
            "bbe6dfe15aee486db335679d13a7b9f7",
            "86bc418333bc43ae9ba25ff7258353b5",
            "cbd3cdb258214486befd78ab7817e7f5",
            "51ef8f2fbb3a482c806e585465e78d2c",
            "1a38deaeb2b947c7a060bc4e4f187423",
            "947a11dcd5ea443b88106045e5dc420c",
            "41cb757288114520a81ade10526441d7",
            "0154b14be47b417ab56bb05be8c7db43",
            "ad53ab9caa8d4c3e8a8f6c4041666df3",
            "394c65b5ac09423b8cabd4bb12554adc",
            "69373b2a37074e2c9653943e75b21c17"
          ]
        },
        "id": "K4ej2GTX65Z9",
        "outputId": "0a02caa8-4ab1-463a-be7a-f80b5742606b"
      },
      "source": [
        "import math\n",
        "from tqdm.autonotebook import tqdm\n",
        "import numpy as np\n",
        "def compute_embeddings(dataloader, count, generated = False):\n",
        "    image_embeddings = []\n",
        "\n",
        "    for _ in tqdm(range(count)):\n",
        "        images = next(iter(dataloader))\n",
        "        if generated:\n",
        "          z = tf.random.normal((batch, 1, 1, noise_dim))\n",
        "          images = wgan.Gen(z, training=False)\n",
        "        embeddings = inception_model.predict(images)\n",
        "\n",
        "        image_embeddings.extend(embeddings)\n",
        "\n",
        "    return np.array(image_embeddings)\n",
        "\n",
        "count = math.ceil(512/batch)\n",
        "\n",
        "# compute embeddings for real images\n",
        "real_image_embeddings = compute_embeddings(ds_train, count)\n",
        "\n",
        "# compute embeddings for generated images\n",
        "generated_image_embeddings = compute_embeddings(ds_train, count, generated = True)\n",
        "\n",
        "real_image_embeddings.shape, generated_image_embeddings.shape"
      ],
      "execution_count": null,
      "outputs": [
        {
          "output_type": "display_data",
          "data": {
            "application/vnd.jupyter.widget-view+json": {
              "model_id": "ac1e49f63f87463ca25c4fcbab52d5e3",
              "version_minor": 0,
              "version_major": 2
            },
            "text/plain": [
              "HBox(children=(FloatProgress(value=0.0, max=16.0), HTML(value='')))"
            ]
          },
          "metadata": {
            "tags": []
          }
        },
        {
          "output_type": "stream",
          "text": [
            "\n"
          ],
          "name": "stdout"
        },
        {
          "output_type": "display_data",
          "data": {
            "application/vnd.jupyter.widget-view+json": {
              "model_id": "51ef8f2fbb3a482c806e585465e78d2c",
              "version_minor": 0,
              "version_major": 2
            },
            "text/plain": [
              "HBox(children=(FloatProgress(value=0.0, max=16.0), HTML(value='')))"
            ]
          },
          "metadata": {
            "tags": []
          }
        },
        {
          "output_type": "stream",
          "text": [
            "\n"
          ],
          "name": "stdout"
        },
        {
          "output_type": "execute_result",
          "data": {
            "text/plain": [
              "((512, 2048), (512, 2048))"
            ]
          },
          "metadata": {
            "tags": []
          },
          "execution_count": 19
        }
      ]
    },
    {
      "cell_type": "code",
      "metadata": {
        "colab": {
          "base_uri": "https://localhost:8080/"
        },
        "id": "9Q65z3127Eiw",
        "outputId": "46b4b27d-f5a9-44ab-fc12-36911783380b"
      },
      "source": [
        "import scipy\n",
        "def calculate_fid(real_embeddings, generated_embeddings):\n",
        "  # calculate mean and covariance statistics\n",
        "  mu1, sigma1 = real_embeddings.mean(axis=0), np.cov(real_embeddings, rowvar=False)\n",
        "  mu2, sigma2 = generated_embeddings.mean(axis=0), np.cov(generated_embeddings,  rowvar=False)\n",
        "  # calculate sum squared difference between means\n",
        "  ssdiff = np.sum((mu1 - mu2)**2.0)\n",
        "  # calculate sqrt of product between cov\n",
        "  covmean = scipy.linalg.sqrtm(sigma1.dot(sigma2))\n",
        "  # check and correct imaginary numbers from sqrt\n",
        "  if np.iscomplexobj(covmean):\n",
        "    covmean = covmean.real\n",
        "  # calculate score\n",
        "  fid = ssdiff + np.trace(sigma1 + sigma2 - 2.0 * covmean)\n",
        "  return fid\n",
        "\n",
        "fid = calculate_fid(real_image_embeddings, generated_image_embeddings)\n",
        "fid"
      ],
      "execution_count": null,
      "outputs": [
        {
          "output_type": "execute_result",
          "data": {
            "text/plain": [
              "1434.0298913935092"
            ]
          },
          "metadata": {
            "tags": []
          },
          "execution_count": 20
        }
      ]
    },
    {
      "cell_type": "code",
      "metadata": {
        "id": "8cxzBnoKGM8Q"
      },
      "source": [
        "# 1434.0298913935092"
      ],
      "execution_count": null,
      "outputs": []
    }
  ]
}