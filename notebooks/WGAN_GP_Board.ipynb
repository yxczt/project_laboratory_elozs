{
  "nbformat": 4,
  "nbformat_minor": 0,
  "metadata": {
    "colab": {
      "name": "WGAN-GP_Board.ipynb",
      "provenance": [],
      "collapsed_sections": []
    },
    "kernelspec": {
      "name": "python3",
      "display_name": "Python 3"
    },
    "language_info": {
      "name": "python"
    },
    "accelerator": "GPU",
    "widgets": {
      "application/vnd.jupyter.widget-state+json": {
        "42aeaf6a24a94e48af81342f2ab79244": {
          "model_module": "@jupyter-widgets/controls",
          "model_name": "HBoxModel",
          "state": {
            "_view_name": "HBoxView",
            "_dom_classes": [],
            "_model_name": "HBoxModel",
            "_view_module": "@jupyter-widgets/controls",
            "_model_module_version": "1.5.0",
            "_view_count": null,
            "_view_module_version": "1.5.0",
            "box_style": "",
            "layout": "IPY_MODEL_3d9f93edc0fb41e7947aa9a4a18d426a",
            "_model_module": "@jupyter-widgets/controls",
            "children": [
              "IPY_MODEL_a53da28d3412470dae10aaeb3ad422c2",
              "IPY_MODEL_1fe7d547180e4146ba42782a9b68cfd1"
            ]
          }
        },
        "3d9f93edc0fb41e7947aa9a4a18d426a": {
          "model_module": "@jupyter-widgets/base",
          "model_name": "LayoutModel",
          "state": {
            "_view_name": "LayoutView",
            "grid_template_rows": null,
            "right": null,
            "justify_content": null,
            "_view_module": "@jupyter-widgets/base",
            "overflow": null,
            "_model_module_version": "1.2.0",
            "_view_count": null,
            "flex_flow": null,
            "width": null,
            "min_width": null,
            "border": null,
            "align_items": null,
            "bottom": null,
            "_model_module": "@jupyter-widgets/base",
            "top": null,
            "grid_column": null,
            "overflow_y": null,
            "overflow_x": null,
            "grid_auto_flow": null,
            "grid_area": null,
            "grid_template_columns": null,
            "flex": null,
            "_model_name": "LayoutModel",
            "justify_items": null,
            "grid_row": null,
            "max_height": null,
            "align_content": null,
            "visibility": null,
            "align_self": null,
            "height": null,
            "min_height": null,
            "padding": null,
            "grid_auto_rows": null,
            "grid_gap": null,
            "max_width": null,
            "order": null,
            "_view_module_version": "1.2.0",
            "grid_template_areas": null,
            "object_position": null,
            "object_fit": null,
            "grid_auto_columns": null,
            "margin": null,
            "display": null,
            "left": null
          }
        },
        "a53da28d3412470dae10aaeb3ad422c2": {
          "model_module": "@jupyter-widgets/controls",
          "model_name": "FloatProgressModel",
          "state": {
            "_view_name": "ProgressView",
            "style": "IPY_MODEL_6a0c8568f99446bbaef45c20a538c012",
            "_dom_classes": [],
            "description": "100%",
            "_model_name": "FloatProgressModel",
            "bar_style": "success",
            "max": 16,
            "_view_module": "@jupyter-widgets/controls",
            "_model_module_version": "1.5.0",
            "value": 16,
            "_view_count": null,
            "_view_module_version": "1.5.0",
            "orientation": "horizontal",
            "min": 0,
            "description_tooltip": null,
            "_model_module": "@jupyter-widgets/controls",
            "layout": "IPY_MODEL_0d5a977f10244d76b9b2043573fa741d"
          }
        },
        "1fe7d547180e4146ba42782a9b68cfd1": {
          "model_module": "@jupyter-widgets/controls",
          "model_name": "HTMLModel",
          "state": {
            "_view_name": "HTMLView",
            "style": "IPY_MODEL_54478e910cca43eea726a69068e43fd3",
            "_dom_classes": [],
            "description": "",
            "_model_name": "HTMLModel",
            "placeholder": "​",
            "_view_module": "@jupyter-widgets/controls",
            "_model_module_version": "1.5.0",
            "value": " 16/16 [00:14&lt;00:00,  1.11it/s]",
            "_view_count": null,
            "_view_module_version": "1.5.0",
            "description_tooltip": null,
            "_model_module": "@jupyter-widgets/controls",
            "layout": "IPY_MODEL_0bb8dc8a5d294d7fb05e53129aa7a154"
          }
        },
        "6a0c8568f99446bbaef45c20a538c012": {
          "model_module": "@jupyter-widgets/controls",
          "model_name": "ProgressStyleModel",
          "state": {
            "_view_name": "StyleView",
            "_model_name": "ProgressStyleModel",
            "description_width": "initial",
            "_view_module": "@jupyter-widgets/base",
            "_model_module_version": "1.5.0",
            "_view_count": null,
            "_view_module_version": "1.2.0",
            "bar_color": null,
            "_model_module": "@jupyter-widgets/controls"
          }
        },
        "0d5a977f10244d76b9b2043573fa741d": {
          "model_module": "@jupyter-widgets/base",
          "model_name": "LayoutModel",
          "state": {
            "_view_name": "LayoutView",
            "grid_template_rows": null,
            "right": null,
            "justify_content": null,
            "_view_module": "@jupyter-widgets/base",
            "overflow": null,
            "_model_module_version": "1.2.0",
            "_view_count": null,
            "flex_flow": null,
            "width": null,
            "min_width": null,
            "border": null,
            "align_items": null,
            "bottom": null,
            "_model_module": "@jupyter-widgets/base",
            "top": null,
            "grid_column": null,
            "overflow_y": null,
            "overflow_x": null,
            "grid_auto_flow": null,
            "grid_area": null,
            "grid_template_columns": null,
            "flex": null,
            "_model_name": "LayoutModel",
            "justify_items": null,
            "grid_row": null,
            "max_height": null,
            "align_content": null,
            "visibility": null,
            "align_self": null,
            "height": null,
            "min_height": null,
            "padding": null,
            "grid_auto_rows": null,
            "grid_gap": null,
            "max_width": null,
            "order": null,
            "_view_module_version": "1.2.0",
            "grid_template_areas": null,
            "object_position": null,
            "object_fit": null,
            "grid_auto_columns": null,
            "margin": null,
            "display": null,
            "left": null
          }
        },
        "54478e910cca43eea726a69068e43fd3": {
          "model_module": "@jupyter-widgets/controls",
          "model_name": "DescriptionStyleModel",
          "state": {
            "_view_name": "StyleView",
            "_model_name": "DescriptionStyleModel",
            "description_width": "",
            "_view_module": "@jupyter-widgets/base",
            "_model_module_version": "1.5.0",
            "_view_count": null,
            "_view_module_version": "1.2.0",
            "_model_module": "@jupyter-widgets/controls"
          }
        },
        "0bb8dc8a5d294d7fb05e53129aa7a154": {
          "model_module": "@jupyter-widgets/base",
          "model_name": "LayoutModel",
          "state": {
            "_view_name": "LayoutView",
            "grid_template_rows": null,
            "right": null,
            "justify_content": null,
            "_view_module": "@jupyter-widgets/base",
            "overflow": null,
            "_model_module_version": "1.2.0",
            "_view_count": null,
            "flex_flow": null,
            "width": null,
            "min_width": null,
            "border": null,
            "align_items": null,
            "bottom": null,
            "_model_module": "@jupyter-widgets/base",
            "top": null,
            "grid_column": null,
            "overflow_y": null,
            "overflow_x": null,
            "grid_auto_flow": null,
            "grid_area": null,
            "grid_template_columns": null,
            "flex": null,
            "_model_name": "LayoutModel",
            "justify_items": null,
            "grid_row": null,
            "max_height": null,
            "align_content": null,
            "visibility": null,
            "align_self": null,
            "height": null,
            "min_height": null,
            "padding": null,
            "grid_auto_rows": null,
            "grid_gap": null,
            "max_width": null,
            "order": null,
            "_view_module_version": "1.2.0",
            "grid_template_areas": null,
            "object_position": null,
            "object_fit": null,
            "grid_auto_columns": null,
            "margin": null,
            "display": null,
            "left": null
          }
        },
        "1377b4e3bad9423794e0957b80e0ef61": {
          "model_module": "@jupyter-widgets/controls",
          "model_name": "HBoxModel",
          "state": {
            "_view_name": "HBoxView",
            "_dom_classes": [],
            "_model_name": "HBoxModel",
            "_view_module": "@jupyter-widgets/controls",
            "_model_module_version": "1.5.0",
            "_view_count": null,
            "_view_module_version": "1.5.0",
            "box_style": "",
            "layout": "IPY_MODEL_6ebcc5c249d349b2a682ea9877373c2a",
            "_model_module": "@jupyter-widgets/controls",
            "children": [
              "IPY_MODEL_ce6b376b1ad44d23a5325ac8ba4ea049",
              "IPY_MODEL_1d3bac18c9e942a894afd06e4509513c"
            ]
          }
        },
        "6ebcc5c249d349b2a682ea9877373c2a": {
          "model_module": "@jupyter-widgets/base",
          "model_name": "LayoutModel",
          "state": {
            "_view_name": "LayoutView",
            "grid_template_rows": null,
            "right": null,
            "justify_content": null,
            "_view_module": "@jupyter-widgets/base",
            "overflow": null,
            "_model_module_version": "1.2.0",
            "_view_count": null,
            "flex_flow": null,
            "width": null,
            "min_width": null,
            "border": null,
            "align_items": null,
            "bottom": null,
            "_model_module": "@jupyter-widgets/base",
            "top": null,
            "grid_column": null,
            "overflow_y": null,
            "overflow_x": null,
            "grid_auto_flow": null,
            "grid_area": null,
            "grid_template_columns": null,
            "flex": null,
            "_model_name": "LayoutModel",
            "justify_items": null,
            "grid_row": null,
            "max_height": null,
            "align_content": null,
            "visibility": null,
            "align_self": null,
            "height": null,
            "min_height": null,
            "padding": null,
            "grid_auto_rows": null,
            "grid_gap": null,
            "max_width": null,
            "order": null,
            "_view_module_version": "1.2.0",
            "grid_template_areas": null,
            "object_position": null,
            "object_fit": null,
            "grid_auto_columns": null,
            "margin": null,
            "display": null,
            "left": null
          }
        },
        "ce6b376b1ad44d23a5325ac8ba4ea049": {
          "model_module": "@jupyter-widgets/controls",
          "model_name": "FloatProgressModel",
          "state": {
            "_view_name": "ProgressView",
            "style": "IPY_MODEL_ff4e6f0a9d664049b2717adf5a23c556",
            "_dom_classes": [],
            "description": "100%",
            "_model_name": "FloatProgressModel",
            "bar_style": "success",
            "max": 16,
            "_view_module": "@jupyter-widgets/controls",
            "_model_module_version": "1.5.0",
            "value": 16,
            "_view_count": null,
            "_view_module_version": "1.5.0",
            "orientation": "horizontal",
            "min": 0,
            "description_tooltip": null,
            "_model_module": "@jupyter-widgets/controls",
            "layout": "IPY_MODEL_0eca3e0477484ff588051c685dc82daa"
          }
        },
        "1d3bac18c9e942a894afd06e4509513c": {
          "model_module": "@jupyter-widgets/controls",
          "model_name": "HTMLModel",
          "state": {
            "_view_name": "HTMLView",
            "style": "IPY_MODEL_81a4a8ae15e348a681287992e555bb5c",
            "_dom_classes": [],
            "description": "",
            "_model_name": "HTMLModel",
            "placeholder": "​",
            "_view_module": "@jupyter-widgets/controls",
            "_model_module_version": "1.5.0",
            "value": " 16/16 [00:17&lt;00:00,  1.12s/it]",
            "_view_count": null,
            "_view_module_version": "1.5.0",
            "description_tooltip": null,
            "_model_module": "@jupyter-widgets/controls",
            "layout": "IPY_MODEL_76ac023b1ec64c5b9c118260c344e39a"
          }
        },
        "ff4e6f0a9d664049b2717adf5a23c556": {
          "model_module": "@jupyter-widgets/controls",
          "model_name": "ProgressStyleModel",
          "state": {
            "_view_name": "StyleView",
            "_model_name": "ProgressStyleModel",
            "description_width": "initial",
            "_view_module": "@jupyter-widgets/base",
            "_model_module_version": "1.5.0",
            "_view_count": null,
            "_view_module_version": "1.2.0",
            "bar_color": null,
            "_model_module": "@jupyter-widgets/controls"
          }
        },
        "0eca3e0477484ff588051c685dc82daa": {
          "model_module": "@jupyter-widgets/base",
          "model_name": "LayoutModel",
          "state": {
            "_view_name": "LayoutView",
            "grid_template_rows": null,
            "right": null,
            "justify_content": null,
            "_view_module": "@jupyter-widgets/base",
            "overflow": null,
            "_model_module_version": "1.2.0",
            "_view_count": null,
            "flex_flow": null,
            "width": null,
            "min_width": null,
            "border": null,
            "align_items": null,
            "bottom": null,
            "_model_module": "@jupyter-widgets/base",
            "top": null,
            "grid_column": null,
            "overflow_y": null,
            "overflow_x": null,
            "grid_auto_flow": null,
            "grid_area": null,
            "grid_template_columns": null,
            "flex": null,
            "_model_name": "LayoutModel",
            "justify_items": null,
            "grid_row": null,
            "max_height": null,
            "align_content": null,
            "visibility": null,
            "align_self": null,
            "height": null,
            "min_height": null,
            "padding": null,
            "grid_auto_rows": null,
            "grid_gap": null,
            "max_width": null,
            "order": null,
            "_view_module_version": "1.2.0",
            "grid_template_areas": null,
            "object_position": null,
            "object_fit": null,
            "grid_auto_columns": null,
            "margin": null,
            "display": null,
            "left": null
          }
        },
        "81a4a8ae15e348a681287992e555bb5c": {
          "model_module": "@jupyter-widgets/controls",
          "model_name": "DescriptionStyleModel",
          "state": {
            "_view_name": "StyleView",
            "_model_name": "DescriptionStyleModel",
            "description_width": "",
            "_view_module": "@jupyter-widgets/base",
            "_model_module_version": "1.5.0",
            "_view_count": null,
            "_view_module_version": "1.2.0",
            "_model_module": "@jupyter-widgets/controls"
          }
        },
        "76ac023b1ec64c5b9c118260c344e39a": {
          "model_module": "@jupyter-widgets/base",
          "model_name": "LayoutModel",
          "state": {
            "_view_name": "LayoutView",
            "grid_template_rows": null,
            "right": null,
            "justify_content": null,
            "_view_module": "@jupyter-widgets/base",
            "overflow": null,
            "_model_module_version": "1.2.0",
            "_view_count": null,
            "flex_flow": null,
            "width": null,
            "min_width": null,
            "border": null,
            "align_items": null,
            "bottom": null,
            "_model_module": "@jupyter-widgets/base",
            "top": null,
            "grid_column": null,
            "overflow_y": null,
            "overflow_x": null,
            "grid_auto_flow": null,
            "grid_area": null,
            "grid_template_columns": null,
            "flex": null,
            "_model_name": "LayoutModel",
            "justify_items": null,
            "grid_row": null,
            "max_height": null,
            "align_content": null,
            "visibility": null,
            "align_self": null,
            "height": null,
            "min_height": null,
            "padding": null,
            "grid_auto_rows": null,
            "grid_gap": null,
            "max_width": null,
            "order": null,
            "_view_module_version": "1.2.0",
            "grid_template_areas": null,
            "object_position": null,
            "object_fit": null,
            "grid_auto_columns": null,
            "margin": null,
            "display": null,
            "left": null
          }
        }
      }
    }
  },
  "cells": [
    {
      "cell_type": "markdown",
      "metadata": {
        "id": "R4tVdkJMn9JP"
      },
      "source": [
        "# Setup"
      ]
    },
    {
      "cell_type": "code",
      "metadata": {
        "id": "YNQ39NwKUACU",
        "colab": {
          "base_uri": "https://localhost:8080/"
        },
        "outputId": "8bae49dd-7783-4c1e-8314-053e0232a7fb"
      },
      "source": [
        "import tensorflow as tf\n",
        "from tensorflow.keras import layers\n",
        "from tensorflow.keras.optimizers import Adam\n",
        "from tensorflow.keras.models import Model\n",
        "from tensorflow.keras.metrics import Mean\n",
        "from google.colab import drive\n",
        "import numpy as np\n",
        "import os\n",
        "from tqdm.autonotebook import tqdm\n",
        "from IPython.display import Image\n",
        "import PIL\n",
        "from PIL import Image\n",
        "import matplotlib.pyplot as plt\n",
        "import tensorflow_datasets as tfds\n",
        "import shutil\n",
        "from functools import partial"
      ],
      "execution_count": null,
      "outputs": [
        {
          "output_type": "stream",
          "text": [
            "/usr/local/lib/python3.7/dist-packages/ipykernel_launcher.py:9: TqdmExperimentalWarning: Using `tqdm.autonotebook.tqdm` in notebook mode. Use `tqdm.tqdm` instead to force console mode (e.g. in jupyter console)\n",
            "  if __name__ == '__main__':\n"
          ],
          "name": "stderr"
        }
      ]
    },
    {
      "cell_type": "code",
      "metadata": {
        "colab": {
          "base_uri": "https://localhost:8080/"
        },
        "id": "uKZ-COZOq3r2",
        "outputId": "f05fa43d-3888-4d2f-85aa-20112c536bf1"
      },
      "source": [
        "%cd /content/\n",
        "drive.mount(\"/content/drive\")"
      ],
      "execution_count": null,
      "outputs": [
        {
          "output_type": "stream",
          "text": [
            "/content\n",
            "Mounted at /content/drive\n"
          ],
          "name": "stdout"
        }
      ]
    },
    {
      "cell_type": "code",
      "metadata": {
        "colab": {
          "base_uri": "https://localhost:8080/"
        },
        "id": "OQfWIlF6r0aD",
        "outputId": "4a8e7027-00c2-46b2-cd3b-d6917d71d8f6"
      },
      "source": [
        "!git clone https://github.com/yxczt/project_laboratory_elozs.git"
      ],
      "execution_count": null,
      "outputs": [
        {
          "output_type": "stream",
          "text": [
            "Cloning into 'project_laboratory_elozs'...\n",
            "remote: Enumerating objects: 3651, done.\u001b[K\n",
            "remote: Counting objects: 100% (3651/3651), done.\u001b[K\n",
            "remote: Compressing objects: 100% (3647/3647), done.\u001b[K\n",
            "remote: Total 3651 (delta 2), reused 3642 (delta 1), pack-reused 0\u001b[K\n",
            "Receiving objects: 100% (3651/3651), 23.16 MiB | 22.65 MiB/s, done.\n",
            "Resolving deltas: 100% (2/2), done.\n"
          ],
          "name": "stdout"
        }
      ]
    },
    {
      "cell_type": "code",
      "metadata": {
        "colab": {
          "base_uri": "https://localhost:8080/"
        },
        "id": "ijHAQrTquBOi",
        "outputId": "a6f72e35-95c8-4e2f-d72d-fb9462b6d445"
      },
      "source": [
        "%cd /content/project_laboratory_elozs/\n",
        "!ls -a"
      ],
      "execution_count": null,
      "outputs": [
        {
          "output_type": "stream",
          "text": [
            "/content/project_laboratory_elozs\n",
            ".  ..  data  .git  README.md\n"
          ],
          "name": "stdout"
        }
      ]
    },
    {
      "cell_type": "code",
      "metadata": {
        "id": "r5QF4DjAclBN"
      },
      "source": [
        "def pbar(total_images, batch_size, epoch, epochs):\n",
        "    bar = tqdm(total=(total_images // batch_size) * batch_size,\n",
        "               ncols=int(get_terminal_width() * .9),\n",
        "               desc=tqdm.write(f'Epoch {epoch + 1}/{epochs}'),\n",
        "               postfix={\n",
        "                   'g_loss': f'{0:6.3f}',\n",
        "                   'd_loss': f'{0:6.3f}',\n",
        "                   1: 1\n",
        "               },\n",
        "               bar_format='{n_fmt}/{total_fmt} |{bar}| {rate_fmt}  '\n",
        "               'ETA: {remaining}  Elapsed Time: {elapsed}  '\n",
        "               'G Loss: {postfix[g_loss]}  D Loss: {postfix['\n",
        "               'd_loss]}',\n",
        "               unit=' images',\n",
        "               miniters=10)\n",
        "    return bar"
      ],
      "execution_count": null,
      "outputs": []
    },
    {
      "cell_type": "code",
      "metadata": {
        "id": "faVH8Nl8cnJr"
      },
      "source": [
        "def save_image_grid(img_grid, epoch):\n",
        "    file_name = 'Boards' + f'_{epoch}.png'\n",
        "    output_dir = os.path.join(\"/content/drive/MyDrive/onlab_results/training/\", file_name)\n",
        "    tf.io.write_file(output_dir, tf.image.encode_png(tf.cast(img_grid, tf.uint8)))"
      ],
      "execution_count": null,
      "outputs": []
    },
    {
      "cell_type": "code",
      "metadata": {
        "id": "AIIpvXFCeRbs"
      },
      "source": [
        "def img_merge(images, n_rows=None, n_cols=None, padding=0, pad_value=0):\n",
        "    images = (tf.cast(images, tf.float32) + 1.0) * 127.5\n",
        "    images = np.array(images)\n",
        "    n = images.shape[0]\n",
        "\n",
        "    if n_rows:\n",
        "        n_rows = max(min(n_rows, n), 1)\n",
        "        n_cols = int(n - 0.5) // n_rows + 1\n",
        "    elif n_cols:\n",
        "        n_cols = max(min(n_cols, n), 1)\n",
        "        n_rows = int(n - 0.5) // n_cols + 1\n",
        "    else:\n",
        "        n_rows = int(n**0.5)\n",
        "        n_cols = int(n - 0.5) // n_rows + 1\n",
        "\n",
        "    h, w = images.shape[1], images.shape[2]\n",
        "    shape = (h * n_rows + padding * (n_rows - 1), w * n_cols + padding * (n_cols - 1))\n",
        "    if images.ndim == 4:\n",
        "        shape += (images.shape[3], )\n",
        "    img = np.full(shape, pad_value, dtype=images.dtype)\n",
        "\n",
        "    for idx, image in enumerate(images):\n",
        "        i = idx % n_cols\n",
        "        j = idx // n_cols\n",
        "        img[j * (h + padding):j * (h + padding) + h, i * (w + padding):i *\n",
        "            (w + padding) + w, ...] = image\n",
        "    return img"
      ],
      "execution_count": null,
      "outputs": []
    },
    {
      "cell_type": "code",
      "metadata": {
        "id": "VqQRcZMQbJua"
      },
      "source": [
        "def get_terminal_width():\n",
        "    width = shutil.get_terminal_size(fallback=(200, 24))[0]\n",
        "    if width == 0:\n",
        "        width = 120\n",
        "    return width"
      ],
      "execution_count": null,
      "outputs": []
    },
    {
      "cell_type": "code",
      "metadata": {
        "id": "l8s9W0w2mvX6"
      },
      "source": [
        "def upsample_block(\n",
        "    x,\n",
        "    filters,\n",
        "    activation,\n",
        "    kernel_size=(3, 3),\n",
        "    strides=(1, 1),\n",
        "    up_size=(2, 2),\n",
        "    padding=\"same\",\n",
        "    use_bn=False,\n",
        "    use_bias=True,\n",
        "    use_dropout=False,\n",
        "    drop_value=0.3,\n",
        "  ):\n",
        "    x = layers.UpSampling2D(up_size)(x)\n",
        "    x = layers.Conv2D(\n",
        "        filters, kernel_size, strides=strides, padding=padding, use_bias=use_bias\n",
        "    )(x)\n",
        "\n",
        "    if use_bn:\n",
        "        x = layers.BatchNormalization()(x)\n",
        "\n",
        "    if activation:\n",
        "        x = activation(x)\n",
        "    if use_dropout:\n",
        "        x = layers.Dropout(drop_value)(x)\n",
        "    return x\n",
        "    \n",
        "def conv_block(\n",
        "  x,\n",
        "  filters,\n",
        "  activation,\n",
        "  kernel_size=(3, 3),\n",
        "  strides=(1, 1),\n",
        "  padding=\"same\",\n",
        "  use_bias=True,\n",
        "  use_bn=False,\n",
        "  use_dropout=False,\n",
        "  drop_value=0.5,\n",
        "):\n",
        "  x = layers.Conv2D(\n",
        "      filters, kernel_size, strides=strides, padding=padding, use_bias=use_bias\n",
        "  )(x)\n",
        "  if use_bn:\n",
        "      x = layers.BatchNormalization()(x)\n",
        "  x = activation(x)\n",
        "  if use_dropout:\n",
        "      x = layers.Dropout(drop_value)(x)\n",
        "  return x"
      ],
      "execution_count": null,
      "outputs": []
    },
    {
      "cell_type": "code",
      "metadata": {
        "id": "ofUW2ohAWiUJ"
      },
      "source": [
        "IMG_SHAPE = (128, 128, 3)\n",
        "total_img_count = 1416\n",
        "img_size = 128\n",
        "epochs = 300\n",
        "batch = 32\n",
        "noise_dim = 1536"
      ],
      "execution_count": null,
      "outputs": []
    },
    {
      "cell_type": "markdown",
      "metadata": {
        "id": "72z88DXAr87s"
      },
      "source": [
        "## Defining the Model"
      ]
    },
    {
      "cell_type": "code",
      "metadata": {
        "id": "HwAFPcl-uu6N"
      },
      "source": [
        "class WGANGP:\n",
        "  def __init__(self, num_of_images = 1416, image_size = 128, epochs = 300, batch_size = 32, z_size = 1536, n_critic = 5, gp_weight = 10.0, loading = False):\n",
        "    self.num_of_images = num_of_images\n",
        "    self.image_size = image_size\n",
        "    self.epochs = epochs\n",
        "    self.batch_size = batch_size\n",
        "    self.z_size = z_size\n",
        "    self.n_critic = n_critic\n",
        "    self.gp_weight = gp_weight\n",
        "    if loading:\n",
        "      %cd /content/drive/MyDrive/onlab_results/first_try/\n",
        "      self.Gen = tf.keras.models.load_model(\"generator.h5\")\n",
        "      self.Disc = tf.keras.models.load_model(\"discriminator.h5\")\n",
        "    else:\n",
        "      self.Gen = self.build_generator()\n",
        "      self.Disc = self.build_discriminator()\n",
        "    self.gen_optimizer = Adam(0.0001)\n",
        "    self.disc_optimizer = Adam(0.0001)\n",
        "\n",
        "    self.Gen.summary()\n",
        "    self.Disc.summary()\n",
        "\n",
        "  def build_generator(self):\n",
        "    noise = layers.Input(shape=(1, 1, noise_dim,))\n",
        "    x = layers.Dense(4 * 4 * 96, use_bias=False)(noise)\n",
        "    x = layers.BatchNormalization()(x)\n",
        "    x = layers.LeakyReLU(0.2)(x)\n",
        "\n",
        "    x = layers.Reshape((4, 4, 96))(x)\n",
        "    x = upsample_block(\n",
        "        x,\n",
        "        48,\n",
        "        layers.LeakyReLU(0.2),\n",
        "        strides=(1, 1),\n",
        "        use_bias=False,\n",
        "        use_bn=True,\n",
        "        padding=\"same\",\n",
        "        use_dropout=False,\n",
        "    )\n",
        "    x = upsample_block(\n",
        "        x,\n",
        "        24,\n",
        "        layers.LeakyReLU(0.2),\n",
        "        strides=(1, 1),\n",
        "        use_bias=False,\n",
        "        use_bn=True,\n",
        "        padding=\"same\",\n",
        "        use_dropout=False,\n",
        "    )\n",
        "    x = upsample_block(\n",
        "        x,\n",
        "        12,\n",
        "        layers.LeakyReLU(0.2),\n",
        "        strides=(1, 1),\n",
        "        use_bias=False,\n",
        "        use_bn=True,\n",
        "        padding=\"same\",\n",
        "        use_dropout=False,\n",
        "    )\n",
        "    x = upsample_block(\n",
        "        x,\n",
        "        6,\n",
        "        layers.LeakyReLU(0.2),\n",
        "        strides=(1, 1),\n",
        "        use_bias=False,\n",
        "        use_bn=True,\n",
        "        padding=\"same\",\n",
        "        use_dropout=False,\n",
        "    )\n",
        "    x = upsample_block(\n",
        "        x, 3, layers.Activation(\"tanh\"), strides=(1, 1), use_bias=False, use_bn=True\n",
        "    )\n",
        "\n",
        "    g_model = Model(noise, x, name=\"generator\")\n",
        "    return g_model\n",
        "\n",
        "\n",
        "  def build_discriminator(self):\n",
        "    img_input = layers.Input(shape=IMG_SHAPE)\n",
        "    x = conv_block(\n",
        "        img_input,\n",
        "        48,\n",
        "        kernel_size=(5, 5),\n",
        "        strides=(2, 2),\n",
        "        use_bn=False,\n",
        "        use_bias=True,\n",
        "        activation=layers.LeakyReLU(0.2),\n",
        "        use_dropout=False,\n",
        "        drop_value=0.3,\n",
        "    )\n",
        "    x = conv_block(\n",
        "        x,\n",
        "        96,\n",
        "        kernel_size=(5, 5),\n",
        "        strides=(2, 2),\n",
        "        use_bn=False,\n",
        "        activation=layers.LeakyReLU(0.2),\n",
        "        use_bias=True,\n",
        "        use_dropout=True,\n",
        "        drop_value=0.3,\n",
        "    )\n",
        "    x = conv_block(\n",
        "        x,\n",
        "        192,\n",
        "        kernel_size=(5, 5),\n",
        "        strides=(2, 2),\n",
        "        use_bn=False,\n",
        "        activation=layers.LeakyReLU(0.2),\n",
        "        use_bias=True,\n",
        "        use_dropout=True,\n",
        "        drop_value=0.3,\n",
        "    )\n",
        "    x = conv_block(\n",
        "        x,\n",
        "        384,\n",
        "        kernel_size=(5, 5),\n",
        "        strides=(2, 2),\n",
        "        use_bn=False,\n",
        "        activation=layers.LeakyReLU(0.2),\n",
        "        use_bias=True,\n",
        "        use_dropout=False,\n",
        "        drop_value=0.3,\n",
        "    )\n",
        "\n",
        "    x = layers.Flatten()(x)\n",
        "    x = layers.Dropout(0.2)(x)\n",
        "    x = layers.Dense(1)(x)\n",
        "\n",
        "    d_model = Model(img_input, x, name=\"discriminator\")\n",
        "    return d_model\n",
        "\n",
        "  def train(self, dataset):\n",
        "    z = tf.constant(tf.random.normal((self.batch_size, 1, 1, self.z_size)))\n",
        "    g_train_loss = Mean()\n",
        "    d_train_loss = Mean()\n",
        "    for epoch in range(self.epochs):\n",
        "      bar = pbar(self.num_of_images, 32, epoch, self.epochs)\n",
        "      for batch in dataset:\n",
        "        for _ in range(self.n_critic):\n",
        "          self.train_discrminator(batch)\n",
        "          d_loss = self.train_discrminator(batch)\n",
        "          d_train_loss(d_loss)\n",
        "\n",
        "        g_loss = self.train_generator()\n",
        "        g_train_loss(g_loss)\n",
        "        self.train_generator()\n",
        "\n",
        "        bar.postfix['g_loss'] = f'{g_train_loss.result():6.3f}'\n",
        "        bar.postfix['d_loss'] = f'{d_train_loss.result():6.3f}'\n",
        "        bar.update(self.batch_size)\n",
        "\n",
        "      g_train_loss.reset_states()\n",
        "      d_train_loss.reset_states()\n",
        "\n",
        "      bar.close()\n",
        "      del bar\n",
        "\n",
        "      samples = self.Gen(z, training=False)\n",
        "      image_grid = img_merge(samples, n_rows=8).squeeze()\n",
        "      save_image_grid(image_grid, epoch + 1)\n",
        "  \n",
        "  @tf.function\n",
        "  def train_generator(self):\n",
        "    z = tf.random.normal((self.batch_size, 1, 1, self.z_size))\n",
        "    with tf.GradientTape() as t:\n",
        "      x_fake = self.Gen(z, training=True)\n",
        "      fake_logits = self.Disc(x_fake, training=True)\n",
        "      loss = -(tf.reduce_mean(fake_logits))\n",
        "    grad = t.gradient(loss, self.Gen.trainable_variables)\n",
        "    self.gen_optimizer.apply_gradients(zip(grad, self.Gen.trainable_variables))\n",
        "    return loss\n",
        "  \n",
        "  @tf.function\n",
        "  def train_discrminator(self, x_real):\n",
        "    z = tf.random.normal((self.batch_size, 1, 1, self.z_size))\n",
        "    with tf.GradientTape() as t:\n",
        "      x_fake = self.Gen(z, training=True)\n",
        "      fake_logits = self.Disc(x_fake, training=True)\n",
        "      real_logits = self.Disc(x_real, training=True)\n",
        "      cost = tf.reduce_mean(fake_logits) - tf.reduce_mean(real_logits)\n",
        "      gp = self.gradient_penalty(partial(self.Disc, training=True), x_real, x_fake)\n",
        "      cost += self.gp_weight * gp\n",
        "    grad = t.gradient(cost, self.Disc.trainable_variables)\n",
        "    self.gen_optimizer.apply_gradients(zip(grad, self.Disc.trainable_variables))\n",
        "    return cost\n",
        "\n",
        "  def gradient_penalty(self, f, real, fake):\n",
        "    alpha = tf.random.uniform([self.batch_size, 1, 1, 1], 0., 1.)\n",
        "    diff = fake - real\n",
        "    inter = real + (alpha * diff)\n",
        "    with tf.GradientTape() as t:\n",
        "        t.watch(inter)\n",
        "        pred = f(inter)\n",
        "    grad = t.gradient(pred, [inter])[0]\n",
        "    slopes = tf.sqrt(tf.reduce_sum(tf.square(grad), axis=[1, 2, 3]))\n",
        "    gp = tf.reduce_mean((slopes - 1.)**2)\n",
        "    return gp\n",
        "  \n",
        "  def generate_samples(self):\n",
        "    z = tf.random.normal((self.batch_size, 1, 1, self.z_size))\n",
        "    samples = self.Gen(z, training=False)\n",
        "    image_grid = img_merge(samples, n_rows=8).squeeze()\n",
        "    file_name = 'BoardsGeneratedRandom.png'\n",
        "    output_dir = os.path.join(\"/content/drive/MyDrive/onlab_results/generated_images/\", file_name)\n",
        "    tf.io.write_file(output_dir, tf.image.encode_png(tf.cast(image_grid, tf.uint8)))\n",
        "  def saving_models(self):\n",
        "    self.Gen.save('generator.h5')\n",
        "    self.Disc.save('discriminator.h5')\n"
      ],
      "execution_count": null,
      "outputs": []
    },
    {
      "cell_type": "markdown",
      "metadata": {
        "id": "aX60DRbyD_bO"
      },
      "source": [
        "# Dataset preparation"
      ]
    },
    {
      "cell_type": "code",
      "metadata": {
        "id": "6UDjg1aWEFF-"
      },
      "source": [
        "def decode_img(file_path):\n",
        "    file = tf.io.read_file(file_path)\n",
        "    img = tf.image.decode_png(file, channels=3)\n",
        "    img = (tf.dtypes.cast(img, tf.float32) / 127.5) - 1.0\n",
        "    return img  \n",
        "\n",
        "img_path = \"/content/project_laboratory_elozs/data/boards/\"\n",
        "ds_train_paths = tf.data.Dataset.list_files(str(img_path + '*.png'))\n",
        "\n",
        "ds_train = ds_train_paths.map(decode_img).cache().shuffle(1416).batch(32, drop_remainder=True)"
      ],
      "execution_count": null,
      "outputs": []
    },
    {
      "cell_type": "code",
      "metadata": {
        "id": "7-9N7nvYVF0l"
      },
      "source": [
        "unknown_image_batch = next(iter(ds_train))\n"
      ],
      "execution_count": null,
      "outputs": []
    },
    {
      "cell_type": "code",
      "metadata": {
        "colab": {
          "base_uri": "https://localhost:8080/",
          "height": 302
        },
        "id": "eR2do2ApVPWM",
        "outputId": "f5713036-c8f8-46c5-d25c-bc81366e12dd"
      },
      "source": [
        "img = unknown_image_batch[0]\n",
        "plt.imshow(tf.concat([img], 2))"
      ],
      "execution_count": null,
      "outputs": [
        {
          "output_type": "stream",
          "text": [
            "Clipping input data to the valid range for imshow with RGB data ([0..1] for floats or [0..255] for integers).\n"
          ],
          "name": "stderr"
        },
        {
          "output_type": "execute_result",
          "data": {
            "text/plain": [
              "<matplotlib.image.AxesImage at 0x7fb8d4288090>"
            ]
          },
          "metadata": {
            "tags": []
          },
          "execution_count": 14
        },
        {
          "output_type": "display_data",
          "data": {
            "image/png": "[encoded data removed]",
            "text/plain": [
              "<Figure size 432x288 with 1 Axes>"
            ]
          },
          "metadata": {
            "tags": [],
            "needs_background": "light"
          }
        }
      ]
    },
    {
      "cell_type": "markdown",
      "metadata": {
        "id": "XRej95TYLBG8"
      },
      "source": [
        "# Training"
      ]
    },
    {
      "cell_type": "code",
      "metadata": {
        "id": "tl23KvXmEuQP",
        "colab": {
          "base_uri": "https://localhost:8080/"
        },
        "outputId": "159376f6-9812-486e-ec82-ec3ba147ffc0"
      },
      "source": [
        "%cd /content/drive/MyDrive/onlab_results/\n",
        "wgan = WGANGP(loading=True)\n",
        "%cd /content/drive/MyDrive/onlab_results/"
      ],
      "execution_count": null,
      "outputs": [
        {
          "output_type": "stream",
          "text": [
            "/content/drive/MyDrive/onlab_results\n",
            "/content/drive/MyDrive/onlab_results/first_try\n",
            "WARNING:tensorflow:No training configuration found in the save file, so the model was *not* compiled. Compile it manually.\n",
            "WARNING:tensorflow:No training configuration found in the save file, so the model was *not* compiled. Compile it manually.\n",
            "Model: \"generator\"\n",
            "_________________________________________________________________\n",
            "Layer (type)                 Output Shape              Param #   \n",
            "=================================================================\n",
            "input_63 (InputLayer)        [(None, 1, 1, 1536)]      0         \n",
            "_________________________________________________________________\n",
            "dense_80 (Dense)             (None, 1, 1, 1536)        2359296   \n",
            "_________________________________________________________________\n",
            "batch_normalization_266 (Bat (None, 1, 1, 1536)        6144      \n",
            "_________________________________________________________________\n",
            "leaky_re_lu_60 (LeakyReLU)   (None, 1, 1, 1536)        0         \n",
            "_________________________________________________________________\n",
            "reshape_35 (Reshape)         (None, 4, 4, 96)          0         \n",
            "_________________________________________________________________\n",
            "up_sampling2d_31 (UpSampling (None, 8, 8, 96)          0         \n",
            "_________________________________________________________________\n",
            "conv2d_159 (Conv2D)          (None, 8, 8, 48)          41472     \n",
            "_________________________________________________________________\n",
            "batch_normalization_267 (Bat (None, 8, 8, 48)          192       \n",
            "_________________________________________________________________\n",
            "leaky_re_lu_61 (LeakyReLU)   (None, 8, 8, 48)          0         \n",
            "_________________________________________________________________\n",
            "up_sampling2d_32 (UpSampling (None, 16, 16, 48)        0         \n",
            "_________________________________________________________________\n",
            "conv2d_160 (Conv2D)          (None, 16, 16, 24)        10368     \n",
            "_________________________________________________________________\n",
            "batch_normalization_268 (Bat (None, 16, 16, 24)        96        \n",
            "_________________________________________________________________\n",
            "leaky_re_lu_62 (LeakyReLU)   (None, 16, 16, 24)        0         \n",
            "_________________________________________________________________\n",
            "up_sampling2d_33 (UpSampling (None, 32, 32, 24)        0         \n",
            "_________________________________________________________________\n",
            "conv2d_161 (Conv2D)          (None, 32, 32, 12)        2592      \n",
            "_________________________________________________________________\n",
            "batch_normalization_269 (Bat (None, 32, 32, 12)        48        \n",
            "_________________________________________________________________\n",
            "leaky_re_lu_63 (LeakyReLU)   (None, 32, 32, 12)        0         \n",
            "_________________________________________________________________\n",
            "up_sampling2d_34 (UpSampling (None, 64, 64, 12)        0         \n",
            "_________________________________________________________________\n",
            "conv2d_162 (Conv2D)          (None, 64, 64, 6)         648       \n",
            "_________________________________________________________________\n",
            "batch_normalization_270 (Bat (None, 64, 64, 6)         24        \n",
            "_________________________________________________________________\n",
            "leaky_re_lu_64 (LeakyReLU)   (None, 64, 64, 6)         0         \n",
            "_________________________________________________________________\n",
            "up_sampling2d_35 (UpSampling (None, 128, 128, 6)       0         \n",
            "_________________________________________________________________\n",
            "conv2d_163 (Conv2D)          (None, 128, 128, 3)       162       \n",
            "_________________________________________________________________\n",
            "batch_normalization_271 (Bat (None, 128, 128, 3)       12        \n",
            "_________________________________________________________________\n",
            "activation_6 (Activation)    (None, 128, 128, 3)       0         \n",
            "=================================================================\n",
            "Total params: 2,421,054\n",
            "Trainable params: 2,417,796\n",
            "Non-trainable params: 3,258\n",
            "_________________________________________________________________\n",
            "Model: \"discriminator\"\n",
            "_________________________________________________________________\n",
            "Layer (type)                 Output Shape              Param #   \n",
            "=================================================================\n",
            "input_64 (InputLayer)        [(None, 128, 128, 3)]     0         \n",
            "_________________________________________________________________\n",
            "conv2d_164 (Conv2D)          (None, 64, 64, 48)        3648      \n",
            "_________________________________________________________________\n",
            "leaky_re_lu_65 (LeakyReLU)   (None, 64, 64, 48)        0         \n",
            "_________________________________________________________________\n",
            "conv2d_165 (Conv2D)          (None, 32, 32, 96)        115296    \n",
            "_________________________________________________________________\n",
            "leaky_re_lu_66 (LeakyReLU)   (None, 32, 32, 96)        0         \n",
            "_________________________________________________________________\n",
            "dropout_18 (Dropout)         (None, 32, 32, 96)        0         \n",
            "_________________________________________________________________\n",
            "conv2d_166 (Conv2D)          (None, 16, 16, 192)       460992    \n",
            "_________________________________________________________________\n",
            "leaky_re_lu_67 (LeakyReLU)   (None, 16, 16, 192)       0         \n",
            "_________________________________________________________________\n",
            "dropout_19 (Dropout)         (None, 16, 16, 192)       0         \n",
            "_________________________________________________________________\n",
            "conv2d_167 (Conv2D)          (None, 8, 8, 384)         1843584   \n",
            "_________________________________________________________________\n",
            "leaky_re_lu_68 (LeakyReLU)   (None, 8, 8, 384)         0         \n",
            "_________________________________________________________________\n",
            "flatten_27 (Flatten)         (None, 24576)             0         \n",
            "_________________________________________________________________\n",
            "dropout_20 (Dropout)         (None, 24576)             0         \n",
            "_________________________________________________________________\n",
            "dense_81 (Dense)             (None, 1)                 24577     \n",
            "=================================================================\n",
            "Total params: 2,448,097\n",
            "Trainable params: 2,448,097\n",
            "Non-trainable params: 0\n",
            "_________________________________________________________________\n",
            "/content/drive/MyDrive/onlab_results\n"
          ],
          "name": "stdout"
        }
      ]
    },
    {
      "cell_type": "code",
      "metadata": {
        "id": "YPrjZCiaEFkR"
      },
      "source": [
        "wgan.train(ds_train)"
      ],
      "execution_count": null,
      "outputs": []
    },
    {
      "cell_type": "code",
      "metadata": {
        "id": "wRH2zjBbrduh"
      },
      "source": [
        "wgan.generate_samples()"
      ],
      "execution_count": null,
      "outputs": []
    },
    {
      "cell_type": "code",
      "metadata": {
        "id": "DZlyQ-IzhMls"
      },
      "source": [
        "wgan.saving_models()"
      ],
      "execution_count": null,
      "outputs": []
    },
    {
      "cell_type": "markdown",
      "metadata": {
        "id": "HZ3Bvm71hyB6"
      },
      "source": [
        "# Evaluation"
      ]
    },
    {
      "cell_type": "code",
      "metadata": {
        "id": "grOPsY1uhxrW",
        "colab": {
          "base_uri": "https://localhost:8080/"
        },
        "outputId": "0fb9aa10-573e-44b8-f266-b44974c4e18d"
      },
      "source": [
        "inception_model = tf.keras.applications.InceptionV3(include_top=False, \n",
        "                              weights=\"imagenet\", \n",
        "                              pooling='avg')"
      ],
      "execution_count": null,
      "outputs": [
        {
          "output_type": "stream",
          "text": [
            "Downloading data from https://storage.googleapis.com/tensorflow/keras-applications/inception_v3/inception_v3_weights_tf_dim_ordering_tf_kernels_notop.h5\n",
            "87916544/87910968 [==============================] - 1s 0us/step\n"
          ],
          "name": "stdout"
        }
      ]
    },
    {
      "cell_type": "code",
      "metadata": {
        "colab": {
          "base_uri": "https://localhost:8080/",
          "height": 131,
          "referenced_widgets": [
            "42aeaf6a24a94e48af81342f2ab79244",
            "3d9f93edc0fb41e7947aa9a4a18d426a",
            "a53da28d3412470dae10aaeb3ad422c2",
            "1fe7d547180e4146ba42782a9b68cfd1",
            "6a0c8568f99446bbaef45c20a538c012",
            "0d5a977f10244d76b9b2043573fa741d",
            "54478e910cca43eea726a69068e43fd3",
            "0bb8dc8a5d294d7fb05e53129aa7a154",
            "1377b4e3bad9423794e0957b80e0ef61",
            "6ebcc5c249d349b2a682ea9877373c2a",
            "ce6b376b1ad44d23a5325ac8ba4ea049",
            "1d3bac18c9e942a894afd06e4509513c",
            "ff4e6f0a9d664049b2717adf5a23c556",
            "0eca3e0477484ff588051c685dc82daa",
            "81a4a8ae15e348a681287992e555bb5c",
            "76ac023b1ec64c5b9c118260c344e39a"
          ]
        },
        "id": "K4ej2GTX65Z9",
        "outputId": "3b6aeabd-93a8-4319-933c-b2d953240ae0"
      },
      "source": [
        "import math\n",
        "from tqdm.autonotebook import tqdm\n",
        "import numpy as np\n",
        "def compute_embeddings(dataloader, count, generated = False):\n",
        "    image_embeddings = []\n",
        "\n",
        "    for _ in tqdm(range(count)):\n",
        "        images = next(iter(dataloader))\n",
        "        if generated:\n",
        "          z = tf.random.normal((batch, 1, 1, noise_dim))\n",
        "          images = wgan.Gen(z, training=False)\n",
        "        embeddings = inception_model.predict(images)\n",
        "\n",
        "        image_embeddings.extend(embeddings)\n",
        "\n",
        "    return np.array(image_embeddings)\n",
        "\n",
        "count = math.ceil(512/batch)\n",
        "\n",
        "# compute embeddings for real images\n",
        "real_image_embeddings = compute_embeddings(ds_train, count)\n",
        "\n",
        "# compute embeddings for generated images\n",
        "generated_image_embeddings = compute_embeddings(ds_train, count, generated = True)\n",
        "\n",
        "real_image_embeddings.shape, generated_image_embeddings.shape"
      ],
      "execution_count": null,
      "outputs": [
        {
          "output_type": "display_data",
          "data": {
            "application/vnd.jupyter.widget-view+json": {
              "model_id": "42aeaf6a24a94e48af81342f2ab79244",
              "version_minor": 0,
              "version_major": 2
            },
            "text/plain": [
              "HBox(children=(FloatProgress(value=0.0, max=16.0), HTML(value='')))"
            ]
          },
          "metadata": {
            "tags": []
          }
        },
        {
          "output_type": "stream",
          "text": [
            "\n"
          ],
          "name": "stdout"
        },
        {
          "output_type": "display_data",
          "data": {
            "application/vnd.jupyter.widget-view+json": {
              "model_id": "1377b4e3bad9423794e0957b80e0ef61",
              "version_minor": 0,
              "version_major": 2
            },
            "text/plain": [
              "HBox(children=(FloatProgress(value=0.0, max=16.0), HTML(value='')))"
            ]
          },
          "metadata": {
            "tags": []
          }
        },
        {
          "output_type": "stream",
          "text": [
            "\n"
          ],
          "name": "stdout"
        },
        {
          "output_type": "execute_result",
          "data": {
            "text/plain": [
              "((512, 2048), (512, 2048))"
            ]
          },
          "metadata": {
            "tags": []
          },
          "execution_count": 26
        }
      ]
    },
    {
      "cell_type": "code",
      "metadata": {
        "colab": {
          "base_uri": "https://localhost:8080/"
        },
        "id": "9Q65z3127Eiw",
        "outputId": "9245d67c-156c-4ce7-af26-6acbabdb0d1d"
      },
      "source": [
        "import scipy\n",
        "def calculate_fid(real_embeddings, generated_embeddings):\n",
        "  # calculate mean and covariance statistics\n",
        "  mu1, sigma1 = real_embeddings.mean(axis=0), np.cov(real_embeddings, rowvar=False)\n",
        "  mu2, sigma2 = generated_embeddings.mean(axis=0), np.cov(generated_embeddings,  rowvar=False)\n",
        "  # calculate sum squared difference between means\n",
        "  ssdiff = np.sum((mu1 - mu2)**2.0)\n",
        "  # calculate sqrt of product between cov\n",
        "  covmean = scipy.linalg.sqrtm(sigma1.dot(sigma2))\n",
        "  # check and correct imaginary numbers from sqrt\n",
        "  if np.iscomplexobj(covmean):\n",
        "    covmean = covmean.real\n",
        "  # calculate score\n",
        "  fid = ssdiff + np.trace(sigma1 + sigma2 - 2.0 * covmean)\n",
        "  return fid\n",
        "\n",
        "fid = calculate_fid(real_image_embeddings, generated_image_embeddings)\n",
        "fid"
      ],
      "execution_count": null,
      "outputs": [
        {
          "output_type": "execute_result",
          "data": {
            "text/plain": [
              "1618.146577655185"
            ]
          },
          "metadata": {
            "tags": []
          },
          "execution_count": 27
        }
      ]
    },
    {
      "cell_type": "code",
      "metadata": {
        "id": "FoyBbxbcEhMN"
      },
      "source": [
        "# 1618.146577655185"
      ],
      "execution_count": null,
      "outputs": []
    }
  ]
}